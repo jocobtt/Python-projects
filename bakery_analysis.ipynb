{
  "nbformat": 4,
  "nbformat_minor": 0,
  "metadata": {
    "colab": {
      "name": "bakery analysis.ipynb",
      "version": "0.3.2",
      "provenance": [],
      "collapsed_sections": [
        "FdYXwCdtdJ2M"
      ],
      "include_colab_link": true
    },
    "kernelspec": {
      "name": "python3",
      "display_name": "Python 3"
    },
    "accelerator": "GPU"
  },
  "cells": [
    {
      "cell_type": "markdown",
      "metadata": {
        "id": "view-in-github",
        "colab_type": "text"
      },
      "source": [
        "<a href=\"https://colab.research.google.com/github/jocobtt/Python-projects/blob/master/bakery_analysis.ipynb\" target=\"_parent\"><img src=\"https://colab.research.google.com/assets/colab-badge.svg\" alt=\"Open In Colab\"/></a>"
      ]
    },
    {
      "metadata": {
        "id": "5wuJ5GCEC2US",
        "colab_type": "text"
      },
      "cell_type": "markdown",
      "source": [
        "Try a kaggle competition"
      ]
    },
    {
      "metadata": {
        "id": "O3xz7QbAJA9z",
        "colab_type": "code",
        "outputId": "546eeb03-bb6d-4433-c2c5-ce18e26b8491",
        "colab": {
          "base_uri": "https://localhost:8080/",
          "height": 34
        }
      },
      "cell_type": "code",
      "source": [
        "#kaggle comp start\n",
        "#need to know full path name to get zip file from online\n",
        "#make directory again before running below script\n",
        "!mkdir trans"
      ],
      "execution_count": 0,
      "outputs": [
        {
          "output_type": "stream",
          "text": [
            "mkdir: cannot create directory ‘trans’: File exists\n"
          ],
          "name": "stdout"
        }
      ]
    },
    {
      "metadata": {
        "id": "Li6QdQ9BtKe6",
        "colab_type": "code",
        "outputId": "c2aa20af-a7d8-4c4f-d44b-e03964f70237",
        "colab": {
          "base_uri": "https://localhost:8080/",
          "height": 34
        }
      },
      "cell_type": "code",
      "source": [
        "!ls"
      ],
      "execution_count": 0,
      "outputs": [
        {
          "output_type": "stream",
          "text": [
            "sample_data  trans\n"
          ],
          "name": "stdout"
        }
      ]
    },
    {
      "metadata": {
        "id": "wF5dV0ncMZOi",
        "colab_type": "code",
        "colab": {}
      },
      "cell_type": "code",
      "source": [
        "import os\n",
        "os.chdir('/content/trans')"
      ],
      "execution_count": 0,
      "outputs": []
    },
    {
      "metadata": {
        "id": "QFnLJX3Ztv5-",
        "colab_type": "code",
        "outputId": "3470e312-0183-4f0a-ded6-b9eb5f1069bf",
        "colab": {
          "base_uri": "https://localhost:8080/",
          "height": 34
        }
      },
      "cell_type": "code",
      "source": [
        "!ls"
      ],
      "execution_count": 0,
      "outputs": [
        {
          "output_type": "stream",
          "text": [
            "BreadBasket_DMS.csv  transactions-from-a-bakery.zip\n"
          ],
          "name": "stdout"
        }
      ]
    },
    {
      "metadata": {
        "id": "q-AVNqs3L9J2",
        "colab_type": "code",
        "outputId": "0a29f7c2-4f28-41bb-e9ae-eeeda912ea3e",
        "colab": {
          "resources": {
            "http://localhost:8080/nbextensions/google.colab/files.js": {
              "data": "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",
              "ok": true,
              "headers": [
                [
                  "content-type",
                  "application/javascript"
                ]
              ],
              "status": 200,
              "status_text": ""
            }
          },
          "base_uri": "https://localhost:8080/",
          "height": 52
        }
      },
      "cell_type": "code",
      "source": [
        "from google.colab import files\n",
        "files.upload()"
      ],
      "execution_count": 0,
      "outputs": [
        {
          "output_type": "display_data",
          "data": {
            "text/html": [
              "\n",
              "     <input type=\"file\" id=\"files-d5b57bb5-ff41-40b4-8c85-9d51f1da7678\" name=\"files[]\" multiple disabled />\n",
              "     <output id=\"result-d5b57bb5-ff41-40b4-8c85-9d51f1da7678\">\n",
              "      Upload widget is only available when the cell has been executed in the\n",
              "      current browser session. Please rerun this cell to enable.\n",
              "      </output>\n",
              "      <script src=\"/nbextensions/google.colab/files.js\"></script> "
            ],
            "text/plain": [
              "<IPython.core.display.HTML object>"
            ]
          },
          "metadata": {
            "tags": []
          }
        },
        {
          "output_type": "execute_result",
          "data": {
            "text/plain": [
              "{}"
            ]
          },
          "metadata": {
            "tags": []
          },
          "execution_count": 8
        }
      ]
    },
    {
      "metadata": {
        "id": "uNheU-13MT3Y",
        "colab_type": "code",
        "outputId": "9420f884-55f0-43ce-8f26-248225aa9bc6",
        "colab": {
          "base_uri": "https://localhost:8080/",
          "height": 71
        }
      },
      "cell_type": "code",
      "source": [
        "!unzip transactions-from-a-bakery.zip"
      ],
      "execution_count": 0,
      "outputs": [
        {
          "output_type": "stream",
          "text": [
            "Archive:  transactions-from-a-bakery.zip\n",
            "replace BreadBasket_DMS.csv? [y]es, [n]o, [A]ll, [N]one, [r]ename: n\n"
          ],
          "name": "stdout"
        }
      ]
    },
    {
      "metadata": {
        "id": "AGI6ApFHMoqR",
        "colab_type": "code",
        "colab": {}
      },
      "cell_type": "code",
      "source": [
        "import pandas as pd\n",
        "import seaborn as sns\n",
        "import sklearn \n",
        "import statsmodels.formula.api as smf\n",
        "import numpy as np"
      ],
      "execution_count": 0,
      "outputs": []
    },
    {
      "metadata": {
        "id": "stBCi0dz5kzV",
        "colab_type": "code",
        "colab": {}
      },
      "cell_type": "code",
      "source": [
        "df = pd.read_csv('BreadBasket_DMS.csv',sep=',',encoding='utf8')"
      ],
      "execution_count": 0,
      "outputs": []
    },
    {
      "metadata": {
        "id": "FCOW9WWKuhQ7",
        "colab_type": "code",
        "outputId": "9283599d-47e2-4c75-d44f-9841af7ece3e",
        "colab": {
          "base_uri": "https://localhost:8080/",
          "height": 204
        }
      },
      "cell_type": "code",
      "source": [
        "df.head()\n"
      ],
      "execution_count": 0,
      "outputs": [
        {
          "output_type": "execute_result",
          "data": {
            "text/html": [
              "<div>\n",
              "<style scoped>\n",
              "    .dataframe tbody tr th:only-of-type {\n",
              "        vertical-align: middle;\n",
              "    }\n",
              "\n",
              "    .dataframe tbody tr th {\n",
              "        vertical-align: top;\n",
              "    }\n",
              "\n",
              "    .dataframe thead th {\n",
              "        text-align: right;\n",
              "    }\n",
              "</style>\n",
              "<table border=\"1\" class=\"dataframe\">\n",
              "  <thead>\n",
              "    <tr style=\"text-align: right;\">\n",
              "      <th></th>\n",
              "      <th>Date</th>\n",
              "      <th>Time</th>\n",
              "      <th>Transaction</th>\n",
              "      <th>Item</th>\n",
              "    </tr>\n",
              "  </thead>\n",
              "  <tbody>\n",
              "    <tr>\n",
              "      <th>0</th>\n",
              "      <td>2016-10-30</td>\n",
              "      <td>09:58:11</td>\n",
              "      <td>1</td>\n",
              "      <td>Bread</td>\n",
              "    </tr>\n",
              "    <tr>\n",
              "      <th>1</th>\n",
              "      <td>2016-10-30</td>\n",
              "      <td>10:05:34</td>\n",
              "      <td>2</td>\n",
              "      <td>Scandinavian</td>\n",
              "    </tr>\n",
              "    <tr>\n",
              "      <th>2</th>\n",
              "      <td>2016-10-30</td>\n",
              "      <td>10:05:34</td>\n",
              "      <td>2</td>\n",
              "      <td>Scandinavian</td>\n",
              "    </tr>\n",
              "    <tr>\n",
              "      <th>3</th>\n",
              "      <td>2016-10-30</td>\n",
              "      <td>10:07:57</td>\n",
              "      <td>3</td>\n",
              "      <td>Hot chocolate</td>\n",
              "    </tr>\n",
              "    <tr>\n",
              "      <th>4</th>\n",
              "      <td>2016-10-30</td>\n",
              "      <td>10:07:57</td>\n",
              "      <td>3</td>\n",
              "      <td>Jam</td>\n",
              "    </tr>\n",
              "  </tbody>\n",
              "</table>\n",
              "</div>"
            ],
            "text/plain": [
              "         Date      Time  Transaction           Item\n",
              "0  2016-10-30  09:58:11            1          Bread\n",
              "1  2016-10-30  10:05:34            2   Scandinavian\n",
              "2  2016-10-30  10:05:34            2   Scandinavian\n",
              "3  2016-10-30  10:07:57            3  Hot chocolate\n",
              "4  2016-10-30  10:07:57            3            Jam"
            ]
          },
          "metadata": {
            "tags": []
          },
          "execution_count": 47
        }
      ]
    },
    {
      "metadata": {
        "id": "O_Uxi1Nld-Hk",
        "colab_type": "code",
        "colab": {}
      },
      "cell_type": "code",
      "source": [
        "df['datetime'] = df['Date'] + ' '+ df['Time']"
      ],
      "execution_count": 0,
      "outputs": []
    },
    {
      "metadata": {
        "id": "i6rzh7t9aL2C",
        "colab_type": "code",
        "outputId": "b8cbb7fd-4282-42cd-dbee-4957e5698948",
        "colab": {
          "base_uri": "https://localhost:8080/",
          "height": 204
        }
      },
      "cell_type": "code",
      "source": [
        "#dataframe of just dates and number of transactions\n",
        "trans = pd.DataFrame({'count': df.groupby(['datetime']).size()}).reset_index()\n",
        "trans.head()"
      ],
      "execution_count": 0,
      "outputs": [
        {
          "output_type": "execute_result",
          "data": {
            "text/html": [
              "<div>\n",
              "<style scoped>\n",
              "    .dataframe tbody tr th:only-of-type {\n",
              "        vertical-align: middle;\n",
              "    }\n",
              "\n",
              "    .dataframe tbody tr th {\n",
              "        vertical-align: top;\n",
              "    }\n",
              "\n",
              "    .dataframe thead th {\n",
              "        text-align: right;\n",
              "    }\n",
              "</style>\n",
              "<table border=\"1\" class=\"dataframe\">\n",
              "  <thead>\n",
              "    <tr style=\"text-align: right;\">\n",
              "      <th></th>\n",
              "      <th>datetime</th>\n",
              "      <th>count</th>\n",
              "    </tr>\n",
              "  </thead>\n",
              "  <tbody>\n",
              "    <tr>\n",
              "      <th>0</th>\n",
              "      <td>2016-10-30 09:58:11</td>\n",
              "      <td>1</td>\n",
              "    </tr>\n",
              "    <tr>\n",
              "      <th>1</th>\n",
              "      <td>2016-10-30 10:05:34</td>\n",
              "      <td>2</td>\n",
              "    </tr>\n",
              "    <tr>\n",
              "      <th>2</th>\n",
              "      <td>2016-10-30 10:07:57</td>\n",
              "      <td>3</td>\n",
              "    </tr>\n",
              "    <tr>\n",
              "      <th>3</th>\n",
              "      <td>2016-10-30 10:08:41</td>\n",
              "      <td>1</td>\n",
              "    </tr>\n",
              "    <tr>\n",
              "      <th>4</th>\n",
              "      <td>2016-10-30 10:13:03</td>\n",
              "      <td>3</td>\n",
              "    </tr>\n",
              "  </tbody>\n",
              "</table>\n",
              "</div>"
            ],
            "text/plain": [
              "              datetime  count\n",
              "0  2016-10-30 09:58:11      1\n",
              "1  2016-10-30 10:05:34      2\n",
              "2  2016-10-30 10:07:57      3\n",
              "3  2016-10-30 10:08:41      1\n",
              "4  2016-10-30 10:13:03      3"
            ]
          },
          "metadata": {
            "tags": []
          },
          "execution_count": 11
        }
      ]
    },
    {
      "metadata": {
        "id": "OTrL1mR9dyUa",
        "colab_type": "code",
        "outputId": "32f4077f-961c-44ec-e96b-0e03d6ead314",
        "colab": {
          "base_uri": "https://localhost:8080/",
          "height": 119
        }
      },
      "cell_type": "code",
      "source": [
        "df['datetime'] = pd.to_datetime(df.datetime)\n",
        "df['datetime'].head()"
      ],
      "execution_count": 0,
      "outputs": [
        {
          "output_type": "execute_result",
          "data": {
            "text/plain": [
              "0   2016-10-30 09:58:11\n",
              "1   2016-10-30 10:05:34\n",
              "2   2016-10-30 10:05:34\n",
              "3   2016-10-30 10:07:57\n",
              "4   2016-10-30 10:07:57\n",
              "Name: datetime, dtype: datetime64[ns]"
            ]
          },
          "metadata": {
            "tags": []
          },
          "execution_count": 12
        }
      ]
    },
    {
      "metadata": {
        "id": "1nsDICr2K4fN",
        "colab_type": "code",
        "colab": {}
      },
      "cell_type": "code",
      "source": [
        "#make y into count and date into ds and drop date and count columns for time series\n",
        "trans['ds'] = trans['datetime']\n",
        "trans['y'] = trans['count']\n",
        "trans = trans.drop(['datetime','count'],axis=1)\n"
      ],
      "execution_count": 0,
      "outputs": []
    },
    {
      "metadata": {
        "id": "EG9cpnCJhg8I",
        "colab_type": "code",
        "outputId": "705a88a5-3f8f-4d4a-c716-ba74e42e55a9",
        "colab": {
          "base_uri": "https://localhost:8080/",
          "height": 204
        }
      },
      "cell_type": "code",
      "source": [
        "trans.head()"
      ],
      "execution_count": 0,
      "outputs": [
        {
          "output_type": "execute_result",
          "data": {
            "text/html": [
              "<div>\n",
              "<style scoped>\n",
              "    .dataframe tbody tr th:only-of-type {\n",
              "        vertical-align: middle;\n",
              "    }\n",
              "\n",
              "    .dataframe tbody tr th {\n",
              "        vertical-align: top;\n",
              "    }\n",
              "\n",
              "    .dataframe thead th {\n",
              "        text-align: right;\n",
              "    }\n",
              "</style>\n",
              "<table border=\"1\" class=\"dataframe\">\n",
              "  <thead>\n",
              "    <tr style=\"text-align: right;\">\n",
              "      <th></th>\n",
              "      <th>ds</th>\n",
              "      <th>y</th>\n",
              "    </tr>\n",
              "  </thead>\n",
              "  <tbody>\n",
              "    <tr>\n",
              "      <th>0</th>\n",
              "      <td>2016-10-30 09:58:11</td>\n",
              "      <td>1</td>\n",
              "    </tr>\n",
              "    <tr>\n",
              "      <th>1</th>\n",
              "      <td>2016-10-30 10:05:34</td>\n",
              "      <td>2</td>\n",
              "    </tr>\n",
              "    <tr>\n",
              "      <th>2</th>\n",
              "      <td>2016-10-30 10:07:57</td>\n",
              "      <td>3</td>\n",
              "    </tr>\n",
              "    <tr>\n",
              "      <th>3</th>\n",
              "      <td>2016-10-30 10:08:41</td>\n",
              "      <td>1</td>\n",
              "    </tr>\n",
              "    <tr>\n",
              "      <th>4</th>\n",
              "      <td>2016-10-30 10:13:03</td>\n",
              "      <td>3</td>\n",
              "    </tr>\n",
              "  </tbody>\n",
              "</table>\n",
              "</div>"
            ],
            "text/plain": [
              "                   ds  y\n",
              "0 2016-10-30 09:58:11  1\n",
              "1 2016-10-30 10:05:34  2\n",
              "2 2016-10-30 10:07:57  3\n",
              "3 2016-10-30 10:08:41  1\n",
              "4 2016-10-30 10:13:03  3"
            ]
          },
          "metadata": {
            "tags": []
          },
          "execution_count": 45
        }
      ]
    },
    {
      "metadata": {
        "id": "toXDhlAqZ7v7",
        "colab_type": "code",
        "colab": {}
      },
      "cell_type": "code",
      "source": [
        "#split into each month, year, and day ind columns\n",
        "df['year'] = df['Date'].apply(lambda x: x.split('-')[0])\n",
        "\n",
        "df['month'] = df['Date'].apply(lambda x: x.split('-')[1])\n",
        "\n",
        "df['day'] = df['Date'].apply(lambda x: x.split('-')[2])"
      ],
      "execution_count": 0,
      "outputs": []
    },
    {
      "metadata": {
        "id": "-FW2o39zcKYI",
        "colab_type": "code",
        "outputId": "da9ae2d9-c35a-4197-810c-e88bc51cdff2",
        "colab": {
          "base_uri": "https://localhost:8080/",
          "height": 394
        }
      },
      "cell_type": "code",
      "source": [
        "df.head()"
      ],
      "execution_count": 0,
      "outputs": [
        {
          "output_type": "execute_result",
          "data": {
            "text/html": [
              "<div>\n",
              "<style scoped>\n",
              "    .dataframe tbody tr th:only-of-type {\n",
              "        vertical-align: middle;\n",
              "    }\n",
              "\n",
              "    .dataframe tbody tr th {\n",
              "        vertical-align: top;\n",
              "    }\n",
              "\n",
              "    .dataframe thead th {\n",
              "        text-align: right;\n",
              "    }\n",
              "</style>\n",
              "<table border=\"1\" class=\"dataframe\">\n",
              "  <thead>\n",
              "    <tr style=\"text-align: right;\">\n",
              "      <th></th>\n",
              "      <th>Date</th>\n",
              "      <th>Time</th>\n",
              "      <th>Transaction</th>\n",
              "      <th>Item</th>\n",
              "      <th>datetime</th>\n",
              "      <th>year</th>\n",
              "      <th>month</th>\n",
              "      <th>day</th>\n",
              "    </tr>\n",
              "  </thead>\n",
              "  <tbody>\n",
              "    <tr>\n",
              "      <th>0</th>\n",
              "      <td>2016-10-30</td>\n",
              "      <td>09:58:11</td>\n",
              "      <td>1</td>\n",
              "      <td>Bread</td>\n",
              "      <td>2016-10-30 09:58:11</td>\n",
              "      <td>2016</td>\n",
              "      <td>10</td>\n",
              "      <td>30</td>\n",
              "    </tr>\n",
              "    <tr>\n",
              "      <th>1</th>\n",
              "      <td>2016-10-30</td>\n",
              "      <td>10:05:34</td>\n",
              "      <td>2</td>\n",
              "      <td>Scandinavian</td>\n",
              "      <td>2016-10-30 10:05:34</td>\n",
              "      <td>2016</td>\n",
              "      <td>10</td>\n",
              "      <td>30</td>\n",
              "    </tr>\n",
              "    <tr>\n",
              "      <th>2</th>\n",
              "      <td>2016-10-30</td>\n",
              "      <td>10:05:34</td>\n",
              "      <td>2</td>\n",
              "      <td>Scandinavian</td>\n",
              "      <td>2016-10-30 10:05:34</td>\n",
              "      <td>2016</td>\n",
              "      <td>10</td>\n",
              "      <td>30</td>\n",
              "    </tr>\n",
              "    <tr>\n",
              "      <th>3</th>\n",
              "      <td>2016-10-30</td>\n",
              "      <td>10:07:57</td>\n",
              "      <td>3</td>\n",
              "      <td>Hot chocolate</td>\n",
              "      <td>2016-10-30 10:07:57</td>\n",
              "      <td>2016</td>\n",
              "      <td>10</td>\n",
              "      <td>30</td>\n",
              "    </tr>\n",
              "    <tr>\n",
              "      <th>4</th>\n",
              "      <td>2016-10-30</td>\n",
              "      <td>10:07:57</td>\n",
              "      <td>3</td>\n",
              "      <td>Jam</td>\n",
              "      <td>2016-10-30 10:07:57</td>\n",
              "      <td>2016</td>\n",
              "      <td>10</td>\n",
              "      <td>30</td>\n",
              "    </tr>\n",
              "  </tbody>\n",
              "</table>\n",
              "</div>"
            ],
            "text/plain": [
              "         Date      Time  Transaction           Item            datetime  year  \\\n",
              "0  2016-10-30  09:58:11            1          Bread 2016-10-30 09:58:11  2016   \n",
              "1  2016-10-30  10:05:34            2   Scandinavian 2016-10-30 10:05:34  2016   \n",
              "2  2016-10-30  10:05:34            2   Scandinavian 2016-10-30 10:05:34  2016   \n",
              "3  2016-10-30  10:07:57            3  Hot chocolate 2016-10-30 10:07:57  2016   \n",
              "4  2016-10-30  10:07:57            3            Jam 2016-10-30 10:07:57  2016   \n",
              "\n",
              "  month day  \n",
              "0    10  30  \n",
              "1    10  30  \n",
              "2    10  30  \n",
              "3    10  30  \n",
              "4    10  30  "
            ]
          },
          "metadata": {
            "tags": []
          },
          "execution_count": 42
        }
      ]
    },
    {
      "metadata": {
        "id": "Jqt2S3gRM8v2",
        "colab_type": "code",
        "outputId": "5a1cb122-d1f1-405f-9ce1-254712cd40a3",
        "colab": {
          "base_uri": "https://localhost:8080/",
          "height": 378
        }
      },
      "cell_type": "code",
      "source": [
        "sns.distplot(df.Transaction)"
      ],
      "execution_count": 0,
      "outputs": [
        {
          "output_type": "execute_result",
          "data": {
            "text/plain": [
              "<matplotlib.axes._subplots.AxesSubplot at 0x7f4218b23860>"
            ]
          },
          "metadata": {
            "tags": []
          },
          "execution_count": 11
        },
        {
          "output_type": "display_data",
          "data": {
            "image/png": "[encoded data removed]",
            "text/plain": [
              "<matplotlib.figure.Figure at 0x7f4218b84fd0>"
            ]
          },
          "metadata": {
            "tags": []
          }
        }
      ]
    },
    {
      "metadata": {
        "id": "Um5Rvo2nNVPg",
        "colab_type": "code",
        "outputId": "8927d5d0-b031-4bd0-cf5a-54560f2ef377",
        "colab": {
          "base_uri": "https://localhost:8080/",
          "height": 170
        }
      },
      "cell_type": "code",
      "source": [
        "df.info()"
      ],
      "execution_count": 0,
      "outputs": [
        {
          "output_type": "stream",
          "text": [
            "<class 'pandas.core.frame.DataFrame'>\n",
            "RangeIndex: 21293 entries, 0 to 21292\n",
            "Data columns (total 4 columns):\n",
            "Date           21293 non-null object\n",
            "Time           21293 non-null object\n",
            "Transaction    21293 non-null int64\n",
            "Item           21293 non-null object\n",
            "dtypes: int64(1), object(3)\n",
            "memory usage: 665.5+ KB\n"
          ],
          "name": "stdout"
        }
      ]
    },
    {
      "metadata": {
        "id": "Hzx3f7DkPLQ6",
        "colab_type": "code",
        "colab": {}
      },
      "cell_type": "code",
      "source": [
        "items_unique_list = df['Item'].unique()"
      ],
      "execution_count": 0,
      "outputs": []
    },
    {
      "metadata": {
        "id": "XNt54E3zTpWP",
        "colab_type": "code",
        "outputId": "80aa7267-2b88-4dfe-f215-b3d36a2a4da3",
        "colab": {
          "base_uri": "https://localhost:8080/",
          "height": 34
        }
      },
      "cell_type": "code",
      "source": [
        "word_list = [\"NaN\", \"-\", \"nan\", \"NAN\", \"None\", \"NONE\", \"none\", \" \", \"_\", \".\"]\n",
        "\n",
        "found_words = [word_list[i] for i, c in enumerate([w in items_unique_list for w in word_list]) if c == True]\n",
        "found_words"
      ],
      "execution_count": 0,
      "outputs": [
        {
          "output_type": "execute_result",
          "data": {
            "text/plain": [
              "['NONE']"
            ]
          },
          "metadata": {
            "tags": []
          },
          "execution_count": 14
        }
      ]
    },
    {
      "metadata": {
        "id": "rgioQM9STA4d",
        "colab_type": "code",
        "outputId": "e4499dce-1a66-47e1-8fbe-bd2281f5f45d",
        "colab": {
          "base_uri": "https://localhost:8080/",
          "height": 34
        }
      },
      "cell_type": "code",
      "source": [
        "len(df[df['Item'] == 'NONE'])"
      ],
      "execution_count": 0,
      "outputs": [
        {
          "output_type": "execute_result",
          "data": {
            "text/plain": [
              "786"
            ]
          },
          "metadata": {
            "tags": []
          },
          "execution_count": 16
        }
      ]
    },
    {
      "metadata": {
        "id": "-2pXpQ3QOoL3",
        "colab_type": "code",
        "colab": {}
      },
      "cell_type": "code",
      "source": [
        "#drop NA values \n",
        "for i in found_words:\n",
        "  df = df.replace(to_replace=i,value=np.nan).dropna()"
      ],
      "execution_count": 0,
      "outputs": []
    },
    {
      "metadata": {
        "id": "ZsQBiMygO_Ji",
        "colab_type": "code",
        "outputId": "a1283181-7a4d-47df-f73f-7b0722cb73fd",
        "colab": {
          "base_uri": "https://localhost:8080/",
          "height": 51
        }
      },
      "cell_type": "code",
      "source": [
        "print(len(df[df['Item'] == 'NONE']))\n",
        "print(len(df.Item.unique()))"
      ],
      "execution_count": 0,
      "outputs": [
        {
          "output_type": "stream",
          "text": [
            "0\n",
            "94\n"
          ],
          "name": "stdout"
        }
      ]
    },
    {
      "metadata": {
        "id": "aUo3goCoUWQu",
        "colab_type": "code",
        "colab": {}
      },
      "cell_type": "code",
      "source": [
        "#get value counts for items \n",
        "top_15 = df.Item.value_counts()[:15]"
      ],
      "execution_count": 0,
      "outputs": []
    },
    {
      "metadata": {
        "id": "cSHq_y5CVDNW",
        "colab_type": "code",
        "outputId": "d4decf30-c39e-4c1a-967b-7cdcf3000267",
        "colab": {
          "base_uri": "https://localhost:8080/",
          "height": 34
        }
      },
      "cell_type": "code",
      "source": [
        "Other =  df.Item.count()-top_15.sum()\n",
        "Other"
      ],
      "execution_count": 0,
      "outputs": [
        {
          "output_type": "execute_result",
          "data": {
            "text/plain": [
              "3675"
            ]
          },
          "metadata": {
            "tags": []
          },
          "execution_count": 20
        }
      ]
    },
    {
      "metadata": {
        "id": "21b5JDL4VTxx",
        "colab_type": "code",
        "outputId": "182e913f-c9d2-4f0e-c1b5-3c69826dd671",
        "colab": {
          "base_uri": "https://localhost:8080/",
          "height": 306
        }
      },
      "cell_type": "code",
      "source": [
        "list_of_items = top_15.append(pd.Series([Other],index=['Other']))\n",
        "list_of_items"
      ],
      "execution_count": 0,
      "outputs": [
        {
          "output_type": "execute_result",
          "data": {
            "text/plain": [
              "Coffee           5471\n",
              "Bread            3325\n",
              "Tea              1435\n",
              "Cake             1025\n",
              "Pastry            856\n",
              "Sandwich          771\n",
              "Medialuna         616\n",
              "Hot chocolate     590\n",
              "Cookies           540\n",
              "Brownie           379\n",
              "Farm House        374\n",
              "Muffin            370\n",
              "Juice             369\n",
              "Alfajores         369\n",
              "Soup              342\n",
              "Other            3675\n",
              "dtype: int64"
            ]
          },
          "metadata": {
            "tags": []
          },
          "execution_count": 21
        }
      ]
    },
    {
      "metadata": {
        "id": "wWR-RBffV2OO",
        "colab_type": "code",
        "outputId": "0f23902a-d316-47f5-8723-a4093128ed16",
        "colab": {
          "base_uri": "https://localhost:8080/",
          "height": 415
        }
      },
      "cell_type": "code",
      "source": [
        "#graph this w/ a histogram\n",
        "list_of_items.plot(kind='bar')"
      ],
      "execution_count": 0,
      "outputs": [
        {
          "output_type": "execute_result",
          "data": {
            "text/plain": [
              "<matplotlib.axes._subplots.AxesSubplot at 0x7fc0f2822400>"
            ]
          },
          "metadata": {
            "tags": []
          },
          "execution_count": 22
        },
        {
          "output_type": "display_data",
          "data": {
            "image/png": "[encoded data removed]",
            "text/plain": [
              "<matplotlib.figure.Figure at 0x7fc0f2834160>"
            ]
          },
          "metadata": {
            "tags": []
          }
        }
      ]
    },
    {
      "metadata": {
        "id": "fhi1-ewbeyB0",
        "colab_type": "code",
        "outputId": "94cd810c-8ca3-4082-dd41-5d492a42361f",
        "colab": {
          "base_uri": "https://localhost:8080/",
          "height": 384
        }
      },
      "cell_type": "code",
      "source": [
        "df.groupby(df.month)['Transaction'].nunique().plot(kind='bar')"
      ],
      "execution_count": 0,
      "outputs": [
        {
          "output_type": "execute_result",
          "data": {
            "text/plain": [
              "<matplotlib.axes._subplots.AxesSubplot at 0x7fc0f2961828>"
            ]
          },
          "metadata": {
            "tags": []
          },
          "execution_count": 23
        },
        {
          "output_type": "display_data",
          "data": {
            "image/png": "[encoded data removed]",
            "text/plain": [
              "<matplotlib.figure.Figure at 0x7fc0f2a039e8>"
            ]
          },
          "metadata": {
            "tags": []
          }
        }
      ]
    },
    {
      "metadata": {
        "id": "ZQyytGKZV8eO",
        "colab_type": "code",
        "colab": {}
      },
      "cell_type": "code",
      "source": [
        ""
      ],
      "execution_count": 0,
      "outputs": []
    },
    {
      "metadata": {
        "id": "FdYXwCdtdJ2M",
        "colab_type": "text"
      },
      "cell_type": "markdown",
      "source": [
        "##Time Series"
      ]
    },
    {
      "metadata": {
        "id": "fN_EkYTuWwSz",
        "colab_type": "code",
        "outputId": "fb02649b-1918-4b85-fdb5-197d2013705f",
        "colab": {
          "base_uri": "https://localhost:8080/",
          "height": 1108
        }
      },
      "cell_type": "code",
      "source": [
        "!pip install fbprophet"
      ],
      "execution_count": 0,
      "outputs": [
        {
          "output_type": "stream",
          "text": [
            "Collecting fbprophet\n",
            "  Downloading https://files.pythonhosted.org/packages/83/a1/a39be1675a62597e4c0d4fdaeb65b14752b8aa8afc92e90edd91614353ab/fbprophet-0.3.post2.tar.gz\n",
            "Collecting Cython>=0.22 (from fbprophet)\n",
            "\u001b[?25l  Downloading https://files.pythonhosted.org/packages/64/3f/cac281f3f019b825bbc03fa8cb7eb03d9c355f4aa9eef978279a4966cb21/Cython-0.29-cp36-cp36m-manylinux1_x86_64.whl (2.1MB)\n",
            "\u001b[K    100% |████████████████████████████████| 2.1MB 11.6MB/s \n",
            "\u001b[?25hCollecting pystan>=2.14 (from fbprophet)\n",
            "\u001b[?25l  Downloading https://files.pythonhosted.org/packages/49/f9/106f3db81cf4da1be937a11b63f400d072718662f3fd1349ea7f0458aa0f/pystan-2.18.0.0-cp36-cp36m-manylinux1_x86_64.whl (50.0MB)\n",
            "\u001b[K    100% |████████████████████████████████| 50.0MB 971kB/s \n",
            "\u001b[?25hRequirement already satisfied: numpy>=1.10.0 in /usr/local/lib/python3.6/dist-packages (from fbprophet) (1.14.6)\n",
            "Requirement already satisfied: pandas>=0.20.1 in /usr/local/lib/python3.6/dist-packages (from fbprophet) (0.22.0)\n",
            "Requirement already satisfied: matplotlib>=2.0.0 in /usr/local/lib/python3.6/dist-packages (from fbprophet) (2.1.2)\n",
            "Requirement already satisfied: pytz>=2011k in /usr/local/lib/python3.6/dist-packages (from pandas>=0.20.1->fbprophet) (2018.7)\n",
            "Requirement already satisfied: python-dateutil>=2 in /usr/local/lib/python3.6/dist-packages (from pandas>=0.20.1->fbprophet) (2.5.3)\n",
            "Requirement already satisfied: pyparsing!=2.0.4,!=2.1.2,!=2.1.6,>=2.0.1 in /usr/local/lib/python3.6/dist-packages (from matplotlib>=2.0.0->fbprophet) (2.3.0)\n",
            "Requirement already satisfied: six>=1.10 in /usr/local/lib/python3.6/dist-packages (from matplotlib>=2.0.0->fbprophet) (1.11.0)\n",
            "Requirement already satisfied: cycler>=0.10 in /usr/local/lib/python3.6/dist-packages (from matplotlib>=2.0.0->fbprophet) (0.10.0)\n",
            "Building wheels for collected packages: fbprophet\n",
            "  Running setup.py bdist_wheel for fbprophet ... \u001b[?25l-\b \berror\n",
            "  Complete output from command /usr/bin/python3 -u -c \"import setuptools, tokenize;__file__='/tmp/pip-install-ag_y6bek/fbprophet/setup.py';f=getattr(tokenize, 'open', open)(__file__);code=f.read().replace('\\r\\n', '\\n');f.close();exec(compile(code, __file__, 'exec'))\" bdist_wheel -d /tmp/pip-wheel-ug2ftupm --python-tag cp36:\n",
            "  running bdist_wheel\n",
            "  running build\n",
            "  running build_py\n",
            "  creating build\n",
            "  creating build/lib\n",
            "  creating build/lib/fbprophet\n",
            "  creating build/lib/fbprophet/stan_model\n",
            "  Traceback (most recent call last):\n",
            "    File \"<string>\", line 1, in <module>\n",
            "    File \"/tmp/pip-install-ag_y6bek/fbprophet/setup.py\", line 123, in <module>\n",
            "      \"\"\"\n",
            "    File \"/usr/local/lib/python3.6/dist-packages/setuptools/__init__.py\", line 140, in setup\n",
            "      return distutils.core.setup(**attrs)\n",
            "    File \"/usr/lib/python3.6/distutils/core.py\", line 148, in setup\n",
            "      dist.run_commands()\n",
            "    File \"/usr/lib/python3.6/distutils/dist.py\", line 955, in run_commands\n",
            "      self.run_command(cmd)\n",
            "    File \"/usr/lib/python3.6/distutils/dist.py\", line 974, in run_command\n",
            "      cmd_obj.run()\n",
            "    File \"/usr/local/lib/python3.6/dist-packages/wheel/bdist_wheel.py\", line 188, in run\n",
            "      self.run_command('build')\n",
            "    File \"/usr/lib/python3.6/distutils/cmd.py\", line 313, in run_command\n",
            "      self.distribution.run_command(command)\n",
            "    File \"/usr/lib/python3.6/distutils/dist.py\", line 974, in run_command\n",
            "      cmd_obj.run()\n",
            "    File \"/usr/lib/python3.6/distutils/command/build.py\", line 135, in run\n",
            "      self.run_command(cmd_name)\n",
            "    File \"/usr/lib/python3.6/distutils/cmd.py\", line 313, in run_command\n",
            "      self.distribution.run_command(command)\n",
            "    File \"/usr/lib/python3.6/distutils/dist.py\", line 974, in run_command\n",
            "      cmd_obj.run()\n",
            "    File \"/tmp/pip-install-ag_y6bek/fbprophet/setup.py\", line 45, in run\n",
            "      build_stan_model(target_dir)\n",
            "    File \"/tmp/pip-install-ag_y6bek/fbprophet/setup.py\", line 28, in build_stan_model\n",
            "      from pystan import StanModel\n",
            "  ModuleNotFoundError: No module named 'pystan'\n",
            "  \n",
            "  ----------------------------------------\n",
            "\u001b[31m  Failed building wheel for fbprophet\u001b[0m\n",
            "\u001b[?25h  Running setup.py clean for fbprophet\n",
            "Failed to build fbprophet\n",
            "Installing collected packages: Cython, pystan, fbprophet\n",
            "  Running setup.py install for fbprophet ... \u001b[?25l-\b \b\\\b \b|\b \bdone\n",
            "\u001b[?25hSuccessfully installed Cython-0.29 fbprophet-0.3.post2 pystan-2.18.0.0\n"
          ],
          "name": "stdout"
        }
      ]
    },
    {
      "metadata": {
        "id": "f1WKAWwBXKdQ",
        "colab_type": "code",
        "colab": {}
      },
      "cell_type": "code",
      "source": [
        "from fbprophet import Prophet"
      ],
      "execution_count": 0,
      "outputs": []
    },
    {
      "metadata": {
        "id": "Qv57LqTSXtCk",
        "colab_type": "code",
        "outputId": "0916ba46-5b1f-40c8-8dd2-6f845000db7d",
        "colab": {
          "base_uri": "https://localhost:8080/",
          "height": 34
        }
      },
      "cell_type": "code",
      "source": [
        "m = Prophet(yearly_seasonality=True,seasonality_prior_scale=0.1)\n",
        "m.fit(trans)"
      ],
      "execution_count": 0,
      "outputs": [
        {
          "output_type": "execute_result",
          "data": {
            "text/plain": [
              "<fbprophet.forecaster.Prophet at 0x7fc07aa834e0>"
            ]
          },
          "metadata": {
            "tags": []
          },
          "execution_count": 35
        }
      ]
    },
    {
      "metadata": {
        "id": "JB-f-BIbIe4W",
        "colab_type": "code",
        "outputId": "5bf532f4-d24e-42a4-a0f4-9351cd5cab70",
        "colab": {
          "base_uri": "https://localhost:8080/",
          "height": 204
        }
      },
      "cell_type": "code",
      "source": [
        "future = m.make_future_dataframe(periods=150)\n",
        "future.tail()"
      ],
      "execution_count": 0,
      "outputs": [
        {
          "output_type": "execute_result",
          "data": {
            "text/html": [
              "<div>\n",
              "<style scoped>\n",
              "    .dataframe tbody tr th:only-of-type {\n",
              "        vertical-align: middle;\n",
              "    }\n",
              "\n",
              "    .dataframe tbody tr th {\n",
              "        vertical-align: top;\n",
              "    }\n",
              "\n",
              "    .dataframe thead th {\n",
              "        text-align: right;\n",
              "    }\n",
              "</style>\n",
              "<table border=\"1\" class=\"dataframe\">\n",
              "  <thead>\n",
              "    <tr style=\"text-align: right;\">\n",
              "      <th></th>\n",
              "      <th>ds</th>\n",
              "    </tr>\n",
              "  </thead>\n",
              "  <tbody>\n",
              "    <tr>\n",
              "      <th>9891</th>\n",
              "      <td>2018-04-05 15:04:24</td>\n",
              "    </tr>\n",
              "    <tr>\n",
              "      <th>9892</th>\n",
              "      <td>2018-04-06 15:04:24</td>\n",
              "    </tr>\n",
              "    <tr>\n",
              "      <th>9893</th>\n",
              "      <td>2018-04-07 15:04:24</td>\n",
              "    </tr>\n",
              "    <tr>\n",
              "      <th>9894</th>\n",
              "      <td>2018-04-08 15:04:24</td>\n",
              "    </tr>\n",
              "    <tr>\n",
              "      <th>9895</th>\n",
              "      <td>2018-04-09 15:04:24</td>\n",
              "    </tr>\n",
              "  </tbody>\n",
              "</table>\n",
              "</div>"
            ],
            "text/plain": [
              "                      ds\n",
              "9891 2018-04-05 15:04:24\n",
              "9892 2018-04-06 15:04:24\n",
              "9893 2018-04-07 15:04:24\n",
              "9894 2018-04-08 15:04:24\n",
              "9895 2018-04-09 15:04:24"
            ]
          },
          "metadata": {
            "tags": []
          },
          "execution_count": 49
        }
      ]
    },
    {
      "metadata": {
        "id": "8SLo1CidNXhc",
        "colab_type": "code",
        "outputId": "a1aa54f1-361c-42fc-a152-1d7dd69dda79",
        "colab": {
          "base_uri": "https://localhost:8080/",
          "height": 204
        }
      },
      "cell_type": "code",
      "source": [
        "forecast = m.predict(future)\n",
        "forecast[['ds','yhat','yhat_lower','yhat_upper']].tail()"
      ],
      "execution_count": 0,
      "outputs": [
        {
          "output_type": "execute_result",
          "data": {
            "text/html": [
              "<div>\n",
              "<style scoped>\n",
              "    .dataframe tbody tr th:only-of-type {\n",
              "        vertical-align: middle;\n",
              "    }\n",
              "\n",
              "    .dataframe tbody tr th {\n",
              "        vertical-align: top;\n",
              "    }\n",
              "\n",
              "    .dataframe thead th {\n",
              "        text-align: right;\n",
              "    }\n",
              "</style>\n",
              "<table border=\"1\" class=\"dataframe\">\n",
              "  <thead>\n",
              "    <tr style=\"text-align: right;\">\n",
              "      <th></th>\n",
              "      <th>ds</th>\n",
              "      <th>yhat</th>\n",
              "      <th>yhat_lower</th>\n",
              "      <th>yhat_upper</th>\n",
              "    </tr>\n",
              "  </thead>\n",
              "  <tbody>\n",
              "    <tr>\n",
              "      <th>9891</th>\n",
              "      <td>2018-04-05 15:04:24</td>\n",
              "      <td>2.815016</td>\n",
              "      <td>1.173931</td>\n",
              "      <td>4.390307</td>\n",
              "    </tr>\n",
              "    <tr>\n",
              "      <th>9892</th>\n",
              "      <td>2018-04-06 15:04:24</td>\n",
              "      <td>2.806660</td>\n",
              "      <td>1.069177</td>\n",
              "      <td>4.406283</td>\n",
              "    </tr>\n",
              "    <tr>\n",
              "      <th>9893</th>\n",
              "      <td>2018-04-07 15:04:24</td>\n",
              "      <td>2.983341</td>\n",
              "      <td>1.281382</td>\n",
              "      <td>4.733370</td>\n",
              "    </tr>\n",
              "    <tr>\n",
              "      <th>9894</th>\n",
              "      <td>2018-04-08 15:04:24</td>\n",
              "      <td>3.083951</td>\n",
              "      <td>1.395437</td>\n",
              "      <td>4.719745</td>\n",
              "    </tr>\n",
              "    <tr>\n",
              "      <th>9895</th>\n",
              "      <td>2018-04-09 15:04:24</td>\n",
              "      <td>2.640216</td>\n",
              "      <td>1.020468</td>\n",
              "      <td>4.303709</td>\n",
              "    </tr>\n",
              "  </tbody>\n",
              "</table>\n",
              "</div>"
            ],
            "text/plain": [
              "                      ds      yhat  yhat_lower  yhat_upper\n",
              "9891 2018-04-05 15:04:24  2.815016    1.173931    4.390307\n",
              "9892 2018-04-06 15:04:24  2.806660    1.069177    4.406283\n",
              "9893 2018-04-07 15:04:24  2.983341    1.281382    4.733370\n",
              "9894 2018-04-08 15:04:24  3.083951    1.395437    4.719745\n",
              "9895 2018-04-09 15:04:24  2.640216    1.020468    4.303709"
            ]
          },
          "metadata": {
            "tags": []
          },
          "execution_count": 50
        }
      ]
    },
    {
      "metadata": {
        "id": "KxTUA1xVNqKZ",
        "colab_type": "code",
        "outputId": "fc9b9495-3e7f-4c38-8a6c-804a66bbbb33",
        "colab": {
          "base_uri": "https://localhost:8080/",
          "height": 437
        }
      },
      "cell_type": "code",
      "source": [
        "figg = m.plot(forecast)"
      ],
      "execution_count": 0,
      "outputs": [
        {
          "output_type": "display_data",
          "data": {
            "image/png": "[encoded data removed]",
            "text/plain": [
              "<matplotlib.figure.Figure at 0x7fc0776bf8d0>"
            ]
          },
          "metadata": {
            "tags": []
          }
        }
      ]
    },
    {
      "metadata": {
        "id": "BgRpPmpRNztI",
        "colab_type": "code",
        "outputId": "9e3f04a1-1f8b-49e2-a5cc-d72aead4ec88",
        "colab": {
          "base_uri": "https://localhost:8080/",
          "height": 869
        }
      },
      "cell_type": "code",
      "source": [
        "fig2 = m.plot_components(forecast)"
      ],
      "execution_count": 0,
      "outputs": [
        {
          "output_type": "display_data",
          "data": {
            "image/png": "[encoded data removed]",
            "text/plain": [
              "<matplotlib.figure.Figure at 0x7fc07c9595f8>"
            ]
          },
          "metadata": {
            "tags": []
          }
        }
      ]
    },
    {
      "metadata": {
        "id": "N4lU9RQgOzSu",
        "colab_type": "code",
        "outputId": "a100adae-8a11-4b57-b863-78720c75b179",
        "colab": {
          "base_uri": "https://localhost:8080/",
          "height": 34
        }
      },
      "cell_type": "code",
      "source": [
        "print('RMSE: %f' % np.sqrt(np.mean((forecast.loc[:1682, 'yhat']-trans['y'])**2)) )"
      ],
      "execution_count": 0,
      "outputs": [
        {
          "output_type": "stream",
          "text": [
            "RMSE: 1.186582\n"
          ],
          "name": "stdout"
        }
      ]
    },
    {
      "metadata": {
        "id": "6LFMHeUqfclV",
        "colab_type": "code",
        "colab": {}
      },
      "cell_type": "code",
      "source": [
        "m = Prophet(changepoint_prior_scale=2.5)\n",
        "m.add_seasonality(name='monthly',periods=30.5,fourier_order=5)\n",
        "m.fit(trans)\n",
        "future = m.make_future_dataframe(periods=365)\n",
        "forecast = m.predict(future)"
      ],
      "execution_count": 0,
      "outputs": []
    },
    {
      "metadata": {
        "id": "HG2wwG6hbPT4",
        "colab_type": "text"
      },
      "cell_type": "markdown",
      "source": [
        "##Association Mining"
      ]
    },
    {
      "metadata": {
        "id": "UdYAm4UbbR1f",
        "colab_type": "code",
        "colab": {}
      },
      "cell_type": "code",
      "source": [
        "#!pip install mlxtend\n",
        "from mlxtend.preprocessing import TransactionEncoder\n",
        "from mlxtend.frequent_patterns import association_rules, apriori"
      ],
      "execution_count": 0,
      "outputs": []
    },
    {
      "metadata": {
        "id": "9ASCfrz4bW_f",
        "colab_type": "code",
        "outputId": "9f1c6bd3-75bf-4691-9d57-4638c5605f96",
        "colab": {
          "base_uri": "https://localhost:8080/",
          "height": 34
        }
      },
      "cell_type": "code",
      "source": [
        "#count num of unique items\n",
        "len(df.Item.unique())"
      ],
      "execution_count": 0,
      "outputs": [
        {
          "output_type": "execute_result",
          "data": {
            "text/plain": [
              "95"
            ]
          },
          "metadata": {
            "tags": []
          },
          "execution_count": 16
        }
      ]
    },
    {
      "metadata": {
        "id": "-mcW-ueWboBm",
        "colab_type": "code",
        "outputId": "103b16e8-56f8-4794-c224-c99c6500a773",
        "colab": {
          "base_uri": "https://localhost:8080/",
          "height": 289
        }
      },
      "cell_type": "code",
      "source": [
        "df.Item.value_counts()[:15]"
      ],
      "execution_count": 0,
      "outputs": [
        {
          "output_type": "execute_result",
          "data": {
            "text/plain": [
              "Coffee           5471\n",
              "Bread            3325\n",
              "Tea              1435\n",
              "Cake             1025\n",
              "Pastry            856\n",
              "Sandwich          771\n",
              "Medialuna         616\n",
              "Hot chocolate     590\n",
              "Cookies           540\n",
              "Brownie           379\n",
              "Farm House        374\n",
              "Muffin            370\n",
              "Juice             369\n",
              "Alfajores         369\n",
              "Soup              342\n",
              "Name: Item, dtype: int64"
            ]
          },
          "metadata": {
            "tags": []
          },
          "execution_count": 37
        }
      ]
    },
    {
      "metadata": {
        "id": "KffucypPccU2",
        "colab_type": "code",
        "outputId": "0bf74fec-cab9-48c8-e4f6-28cc1fed0325",
        "colab": {
          "base_uri": "https://localhost:8080/",
          "height": 34
        }
      },
      "cell_type": "code",
      "source": [
        "trans_list = []\n",
        "#create a list of unique transactions- needs to be a list to feed through algo\n",
        "for i in df['Transaction'].unique():\n",
        "  llist = list(set(df[df['Transaction']==i]['Item']))\n",
        "  if len(llist)>0:\n",
        "    trans_list.append(llist)\n",
        "print(len(trans_list))"
      ],
      "execution_count": 0,
      "outputs": [
        {
          "output_type": "stream",
          "text": [
            "9465\n"
          ],
          "name": "stdout"
        }
      ]
    },
    {
      "metadata": {
        "id": "-qbuv0G_hv9H",
        "colab_type": "code",
        "outputId": "3605fa14-11d2-4f0e-dc0a-7eee32006fc4",
        "colab": {
          "base_uri": "https://localhost:8080/",
          "height": 34
        }
      },
      "cell_type": "code",
      "source": [
        "TransactionEncoder()"
      ],
      "execution_count": 0,
      "outputs": [
        {
          "output_type": "execute_result",
          "data": {
            "text/plain": [
              "TransactionEncoder()"
            ]
          },
          "metadata": {
            "tags": []
          },
          "execution_count": 32
        }
      ]
    },
    {
      "metadata": {
        "id": "NPvNUJDJg_Dd",
        "colab_type": "code",
        "colab": {}
      },
      "cell_type": "code",
      "source": [
        "tran_enc = TransactionEncoder()\n",
        "tran_array = tran_enc.fit(trans_list).transform(trans_list)\n",
        "tranz_df = pd.DataFrame(tran_array,columns=tran_enc.columns_)"
      ],
      "execution_count": 0,
      "outputs": []
    },
    {
      "metadata": {
        "id": "VYDrf4cJhrLa",
        "colab_type": "code",
        "outputId": "1461e0d7-ee42-486e-b00b-e8f618f7d199",
        "colab": {
          "base_uri": "https://localhost:8080/",
          "height": 1558
        }
      },
      "cell_type": "code",
      "source": [
        "freq_items = apriori(tranz_df,min_support=0.01,use_colnames=True)\n",
        "rules = association_rules(freq_items,metric='lift',min_threshold=1)\n",
        "rules.sort_values('confidence',ascending=False)"
      ],
      "execution_count": 0,
      "outputs": [
        {
          "output_type": "execute_result",
          "data": {
            "text/html": [
              "<div>\n",
              "<style scoped>\n",
              "    .dataframe tbody tr th:only-of-type {\n",
              "        vertical-align: middle;\n",
              "    }\n",
              "\n",
              "    .dataframe tbody tr th {\n",
              "        vertical-align: top;\n",
              "    }\n",
              "\n",
              "    .dataframe thead th {\n",
              "        text-align: right;\n",
              "    }\n",
              "</style>\n",
              "<table border=\"1\" class=\"dataframe\">\n",
              "  <thead>\n",
              "    <tr style=\"text-align: right;\">\n",
              "      <th></th>\n",
              "      <th>antecedents</th>\n",
              "      <th>consequents</th>\n",
              "      <th>antecedent support</th>\n",
              "      <th>consequent support</th>\n",
              "      <th>support</th>\n",
              "      <th>confidence</th>\n",
              "      <th>lift</th>\n",
              "      <th>leverage</th>\n",
              "      <th>conviction</th>\n",
              "    </tr>\n",
              "  </thead>\n",
              "  <tbody>\n",
              "    <tr>\n",
              "      <th>31</th>\n",
              "      <td>(Toast)</td>\n",
              "      <td>(Coffee)</td>\n",
              "      <td>0.033597</td>\n",
              "      <td>0.478394</td>\n",
              "      <td>0.023666</td>\n",
              "      <td>0.704403</td>\n",
              "      <td>1.472431</td>\n",
              "      <td>0.007593</td>\n",
              "      <td>1.764582</td>\n",
              "    </tr>\n",
              "    <tr>\n",
              "      <th>29</th>\n",
              "      <td>(Spanish Brunch)</td>\n",
              "      <td>(Coffee)</td>\n",
              "      <td>0.018172</td>\n",
              "      <td>0.478394</td>\n",
              "      <td>0.010882</td>\n",
              "      <td>0.598837</td>\n",
              "      <td>1.251766</td>\n",
              "      <td>0.002189</td>\n",
              "      <td>1.300235</td>\n",
              "    </tr>\n",
              "    <tr>\n",
              "      <th>19</th>\n",
              "      <td>(Medialuna)</td>\n",
              "      <td>(Coffee)</td>\n",
              "      <td>0.061807</td>\n",
              "      <td>0.478394</td>\n",
              "      <td>0.035182</td>\n",
              "      <td>0.569231</td>\n",
              "      <td>1.189878</td>\n",
              "      <td>0.005614</td>\n",
              "      <td>1.210871</td>\n",
              "    </tr>\n",
              "    <tr>\n",
              "      <th>23</th>\n",
              "      <td>(Pastry)</td>\n",
              "      <td>(Coffee)</td>\n",
              "      <td>0.086107</td>\n",
              "      <td>0.478394</td>\n",
              "      <td>0.047544</td>\n",
              "      <td>0.552147</td>\n",
              "      <td>1.154168</td>\n",
              "      <td>0.006351</td>\n",
              "      <td>1.164682</td>\n",
              "    </tr>\n",
              "    <tr>\n",
              "      <th>0</th>\n",
              "      <td>(Alfajores)</td>\n",
              "      <td>(Coffee)</td>\n",
              "      <td>0.036344</td>\n",
              "      <td>0.478394</td>\n",
              "      <td>0.019651</td>\n",
              "      <td>0.540698</td>\n",
              "      <td>1.130235</td>\n",
              "      <td>0.002264</td>\n",
              "      <td>1.135648</td>\n",
              "    </tr>\n",
              "    <tr>\n",
              "      <th>16</th>\n",
              "      <td>(Juice)</td>\n",
              "      <td>(Coffee)</td>\n",
              "      <td>0.038563</td>\n",
              "      <td>0.478394</td>\n",
              "      <td>0.020602</td>\n",
              "      <td>0.534247</td>\n",
              "      <td>1.116750</td>\n",
              "      <td>0.002154</td>\n",
              "      <td>1.119919</td>\n",
              "    </tr>\n",
              "    <tr>\n",
              "      <th>24</th>\n",
              "      <td>(Sandwich)</td>\n",
              "      <td>(Coffee)</td>\n",
              "      <td>0.071844</td>\n",
              "      <td>0.478394</td>\n",
              "      <td>0.038246</td>\n",
              "      <td>0.532353</td>\n",
              "      <td>1.112792</td>\n",
              "      <td>0.003877</td>\n",
              "      <td>1.115384</td>\n",
              "    </tr>\n",
              "    <tr>\n",
              "      <th>7</th>\n",
              "      <td>(Cake)</td>\n",
              "      <td>(Coffee)</td>\n",
              "      <td>0.103856</td>\n",
              "      <td>0.478394</td>\n",
              "      <td>0.054728</td>\n",
              "      <td>0.526958</td>\n",
              "      <td>1.101515</td>\n",
              "      <td>0.005044</td>\n",
              "      <td>1.102664</td>\n",
              "    </tr>\n",
              "    <tr>\n",
              "      <th>27</th>\n",
              "      <td>(Scone)</td>\n",
              "      <td>(Coffee)</td>\n",
              "      <td>0.034548</td>\n",
              "      <td>0.478394</td>\n",
              "      <td>0.018067</td>\n",
              "      <td>0.522936</td>\n",
              "      <td>1.093107</td>\n",
              "      <td>0.001539</td>\n",
              "      <td>1.093366</td>\n",
              "    </tr>\n",
              "    <tr>\n",
              "      <th>12</th>\n",
              "      <td>(Cookies)</td>\n",
              "      <td>(Coffee)</td>\n",
              "      <td>0.054411</td>\n",
              "      <td>0.478394</td>\n",
              "      <td>0.028209</td>\n",
              "      <td>0.518447</td>\n",
              "      <td>1.083723</td>\n",
              "      <td>0.002179</td>\n",
              "      <td>1.083174</td>\n",
              "    </tr>\n",
              "    <tr>\n",
              "      <th>14</th>\n",
              "      <td>(Hot chocolate)</td>\n",
              "      <td>(Coffee)</td>\n",
              "      <td>0.058320</td>\n",
              "      <td>0.478394</td>\n",
              "      <td>0.029583</td>\n",
              "      <td>0.507246</td>\n",
              "      <td>1.060311</td>\n",
              "      <td>0.001683</td>\n",
              "      <td>1.058553</td>\n",
              "    </tr>\n",
              "    <tr>\n",
              "      <th>5</th>\n",
              "      <td>(Brownie)</td>\n",
              "      <td>(Coffee)</td>\n",
              "      <td>0.040042</td>\n",
              "      <td>0.478394</td>\n",
              "      <td>0.019651</td>\n",
              "      <td>0.490765</td>\n",
              "      <td>1.025860</td>\n",
              "      <td>0.000495</td>\n",
              "      <td>1.024293</td>\n",
              "    </tr>\n",
              "    <tr>\n",
              "      <th>21</th>\n",
              "      <td>(Muffin)</td>\n",
              "      <td>(Coffee)</td>\n",
              "      <td>0.038457</td>\n",
              "      <td>0.478394</td>\n",
              "      <td>0.018806</td>\n",
              "      <td>0.489011</td>\n",
              "      <td>1.022193</td>\n",
              "      <td>0.000408</td>\n",
              "      <td>1.020777</td>\n",
              "    </tr>\n",
              "    <tr>\n",
              "      <th>2</th>\n",
              "      <td>(Pastry)</td>\n",
              "      <td>(Bread)</td>\n",
              "      <td>0.086107</td>\n",
              "      <td>0.327205</td>\n",
              "      <td>0.029160</td>\n",
              "      <td>0.338650</td>\n",
              "      <td>1.034977</td>\n",
              "      <td>0.000985</td>\n",
              "      <td>1.017305</td>\n",
              "    </tr>\n",
              "    <tr>\n",
              "      <th>10</th>\n",
              "      <td>(Cake)</td>\n",
              "      <td>(Tea)</td>\n",
              "      <td>0.103856</td>\n",
              "      <td>0.142631</td>\n",
              "      <td>0.023772</td>\n",
              "      <td>0.228891</td>\n",
              "      <td>1.604781</td>\n",
              "      <td>0.008959</td>\n",
              "      <td>1.111865</td>\n",
              "    </tr>\n",
              "    <tr>\n",
              "      <th>38</th>\n",
              "      <td>(Coffee, Tea)</td>\n",
              "      <td>(Cake)</td>\n",
              "      <td>0.049868</td>\n",
              "      <td>0.103856</td>\n",
              "      <td>0.010037</td>\n",
              "      <td>0.201271</td>\n",
              "      <td>1.937977</td>\n",
              "      <td>0.004858</td>\n",
              "      <td>1.121962</td>\n",
              "    </tr>\n",
              "    <tr>\n",
              "      <th>32</th>\n",
              "      <td>(Sandwich)</td>\n",
              "      <td>(Tea)</td>\n",
              "      <td>0.071844</td>\n",
              "      <td>0.142631</td>\n",
              "      <td>0.014369</td>\n",
              "      <td>0.200000</td>\n",
              "      <td>1.402222</td>\n",
              "      <td>0.004122</td>\n",
              "      <td>1.071712</td>\n",
              "    </tr>\n",
              "    <tr>\n",
              "      <th>8</th>\n",
              "      <td>(Hot chocolate)</td>\n",
              "      <td>(Cake)</td>\n",
              "      <td>0.058320</td>\n",
              "      <td>0.103856</td>\n",
              "      <td>0.011410</td>\n",
              "      <td>0.195652</td>\n",
              "      <td>1.883874</td>\n",
              "      <td>0.005354</td>\n",
              "      <td>1.114125</td>\n",
              "    </tr>\n",
              "    <tr>\n",
              "      <th>39</th>\n",
              "      <td>(Coffee, Cake)</td>\n",
              "      <td>(Tea)</td>\n",
              "      <td>0.054728</td>\n",
              "      <td>0.142631</td>\n",
              "      <td>0.010037</td>\n",
              "      <td>0.183398</td>\n",
              "      <td>1.285822</td>\n",
              "      <td>0.002231</td>\n",
              "      <td>1.049923</td>\n",
              "    </tr>\n",
              "    <tr>\n",
              "      <th>11</th>\n",
              "      <td>(Tea)</td>\n",
              "      <td>(Cake)</td>\n",
              "      <td>0.142631</td>\n",
              "      <td>0.103856</td>\n",
              "      <td>0.023772</td>\n",
              "      <td>0.166667</td>\n",
              "      <td>1.604781</td>\n",
              "      <td>0.008959</td>\n",
              "      <td>1.075372</td>\n",
              "    </tr>\n",
              "    <tr>\n",
              "      <th>37</th>\n",
              "      <td>(Pastry)</td>\n",
              "      <td>(Coffee, Bread)</td>\n",
              "      <td>0.086107</td>\n",
              "      <td>0.090016</td>\n",
              "      <td>0.011199</td>\n",
              "      <td>0.130061</td>\n",
              "      <td>1.444872</td>\n",
              "      <td>0.003448</td>\n",
              "      <td>1.046033</td>\n",
              "    </tr>\n",
              "    <tr>\n",
              "      <th>36</th>\n",
              "      <td>(Coffee, Bread)</td>\n",
              "      <td>(Pastry)</td>\n",
              "      <td>0.090016</td>\n",
              "      <td>0.086107</td>\n",
              "      <td>0.011199</td>\n",
              "      <td>0.124413</td>\n",
              "      <td>1.444872</td>\n",
              "      <td>0.003448</td>\n",
              "      <td>1.043749</td>\n",
              "    </tr>\n",
              "    <tr>\n",
              "      <th>6</th>\n",
              "      <td>(Coffee)</td>\n",
              "      <td>(Cake)</td>\n",
              "      <td>0.478394</td>\n",
              "      <td>0.103856</td>\n",
              "      <td>0.054728</td>\n",
              "      <td>0.114399</td>\n",
              "      <td>1.101515</td>\n",
              "      <td>0.005044</td>\n",
              "      <td>1.011905</td>\n",
              "    </tr>\n",
              "    <tr>\n",
              "      <th>34</th>\n",
              "      <td>(Coffee, Bread)</td>\n",
              "      <td>(Cake)</td>\n",
              "      <td>0.090016</td>\n",
              "      <td>0.103856</td>\n",
              "      <td>0.010037</td>\n",
              "      <td>0.111502</td>\n",
              "      <td>1.073621</td>\n",
              "      <td>0.000688</td>\n",
              "      <td>1.008606</td>\n",
              "    </tr>\n",
              "    <tr>\n",
              "      <th>9</th>\n",
              "      <td>(Cake)</td>\n",
              "      <td>(Hot chocolate)</td>\n",
              "      <td>0.103856</td>\n",
              "      <td>0.058320</td>\n",
              "      <td>0.011410</td>\n",
              "      <td>0.109868</td>\n",
              "      <td>1.883874</td>\n",
              "      <td>0.005354</td>\n",
              "      <td>1.057910</td>\n",
              "    </tr>\n",
              "    <tr>\n",
              "      <th>33</th>\n",
              "      <td>(Tea)</td>\n",
              "      <td>(Sandwich)</td>\n",
              "      <td>0.142631</td>\n",
              "      <td>0.071844</td>\n",
              "      <td>0.014369</td>\n",
              "      <td>0.100741</td>\n",
              "      <td>1.402222</td>\n",
              "      <td>0.004122</td>\n",
              "      <td>1.032134</td>\n",
              "    </tr>\n",
              "    <tr>\n",
              "      <th>22</th>\n",
              "      <td>(Coffee)</td>\n",
              "      <td>(Pastry)</td>\n",
              "      <td>0.478394</td>\n",
              "      <td>0.086107</td>\n",
              "      <td>0.047544</td>\n",
              "      <td>0.099382</td>\n",
              "      <td>1.154168</td>\n",
              "      <td>0.006351</td>\n",
              "      <td>1.014740</td>\n",
              "    </tr>\n",
              "    <tr>\n",
              "      <th>35</th>\n",
              "      <td>(Cake)</td>\n",
              "      <td>(Coffee, Bread)</td>\n",
              "      <td>0.103856</td>\n",
              "      <td>0.090016</td>\n",
              "      <td>0.010037</td>\n",
              "      <td>0.096643</td>\n",
              "      <td>1.073621</td>\n",
              "      <td>0.000688</td>\n",
              "      <td>1.007336</td>\n",
              "    </tr>\n",
              "    <tr>\n",
              "      <th>41</th>\n",
              "      <td>(Cake)</td>\n",
              "      <td>(Coffee, Tea)</td>\n",
              "      <td>0.103856</td>\n",
              "      <td>0.049868</td>\n",
              "      <td>0.010037</td>\n",
              "      <td>0.096643</td>\n",
              "      <td>1.937977</td>\n",
              "      <td>0.004858</td>\n",
              "      <td>1.051779</td>\n",
              "    </tr>\n",
              "    <tr>\n",
              "      <th>3</th>\n",
              "      <td>(Bread)</td>\n",
              "      <td>(Pastry)</td>\n",
              "      <td>0.327205</td>\n",
              "      <td>0.086107</td>\n",
              "      <td>0.029160</td>\n",
              "      <td>0.089119</td>\n",
              "      <td>1.034977</td>\n",
              "      <td>0.000985</td>\n",
              "      <td>1.003306</td>\n",
              "    </tr>\n",
              "    <tr>\n",
              "      <th>25</th>\n",
              "      <td>(Coffee)</td>\n",
              "      <td>(Sandwich)</td>\n",
              "      <td>0.478394</td>\n",
              "      <td>0.071844</td>\n",
              "      <td>0.038246</td>\n",
              "      <td>0.079947</td>\n",
              "      <td>1.112792</td>\n",
              "      <td>0.003877</td>\n",
              "      <td>1.008807</td>\n",
              "    </tr>\n",
              "    <tr>\n",
              "      <th>18</th>\n",
              "      <td>(Coffee)</td>\n",
              "      <td>(Medialuna)</td>\n",
              "      <td>0.478394</td>\n",
              "      <td>0.061807</td>\n",
              "      <td>0.035182</td>\n",
              "      <td>0.073542</td>\n",
              "      <td>1.189878</td>\n",
              "      <td>0.005614</td>\n",
              "      <td>1.012667</td>\n",
              "    </tr>\n",
              "    <tr>\n",
              "      <th>40</th>\n",
              "      <td>(Tea)</td>\n",
              "      <td>(Coffee, Cake)</td>\n",
              "      <td>0.142631</td>\n",
              "      <td>0.054728</td>\n",
              "      <td>0.010037</td>\n",
              "      <td>0.070370</td>\n",
              "      <td>1.285822</td>\n",
              "      <td>0.002231</td>\n",
              "      <td>1.016827</td>\n",
              "    </tr>\n",
              "    <tr>\n",
              "      <th>15</th>\n",
              "      <td>(Coffee)</td>\n",
              "      <td>(Hot chocolate)</td>\n",
              "      <td>0.478394</td>\n",
              "      <td>0.058320</td>\n",
              "      <td>0.029583</td>\n",
              "      <td>0.061837</td>\n",
              "      <td>1.060311</td>\n",
              "      <td>0.001683</td>\n",
              "      <td>1.003749</td>\n",
              "    </tr>\n",
              "    <tr>\n",
              "      <th>13</th>\n",
              "      <td>(Coffee)</td>\n",
              "      <td>(Cookies)</td>\n",
              "      <td>0.478394</td>\n",
              "      <td>0.054411</td>\n",
              "      <td>0.028209</td>\n",
              "      <td>0.058966</td>\n",
              "      <td>1.083723</td>\n",
              "      <td>0.002179</td>\n",
              "      <td>1.004841</td>\n",
              "    </tr>\n",
              "    <tr>\n",
              "      <th>30</th>\n",
              "      <td>(Coffee)</td>\n",
              "      <td>(Toast)</td>\n",
              "      <td>0.478394</td>\n",
              "      <td>0.033597</td>\n",
              "      <td>0.023666</td>\n",
              "      <td>0.049470</td>\n",
              "      <td>1.472431</td>\n",
              "      <td>0.007593</td>\n",
              "      <td>1.016699</td>\n",
              "    </tr>\n",
              "    <tr>\n",
              "      <th>17</th>\n",
              "      <td>(Coffee)</td>\n",
              "      <td>(Juice)</td>\n",
              "      <td>0.478394</td>\n",
              "      <td>0.038563</td>\n",
              "      <td>0.020602</td>\n",
              "      <td>0.043065</td>\n",
              "      <td>1.116750</td>\n",
              "      <td>0.002154</td>\n",
              "      <td>1.004705</td>\n",
              "    </tr>\n",
              "    <tr>\n",
              "      <th>1</th>\n",
              "      <td>(Coffee)</td>\n",
              "      <td>(Alfajores)</td>\n",
              "      <td>0.478394</td>\n",
              "      <td>0.036344</td>\n",
              "      <td>0.019651</td>\n",
              "      <td>0.041078</td>\n",
              "      <td>1.130235</td>\n",
              "      <td>0.002264</td>\n",
              "      <td>1.004936</td>\n",
              "    </tr>\n",
              "    <tr>\n",
              "      <th>4</th>\n",
              "      <td>(Coffee)</td>\n",
              "      <td>(Brownie)</td>\n",
              "      <td>0.478394</td>\n",
              "      <td>0.040042</td>\n",
              "      <td>0.019651</td>\n",
              "      <td>0.041078</td>\n",
              "      <td>1.025860</td>\n",
              "      <td>0.000495</td>\n",
              "      <td>1.001080</td>\n",
              "    </tr>\n",
              "    <tr>\n",
              "      <th>20</th>\n",
              "      <td>(Coffee)</td>\n",
              "      <td>(Muffin)</td>\n",
              "      <td>0.478394</td>\n",
              "      <td>0.038457</td>\n",
              "      <td>0.018806</td>\n",
              "      <td>0.039311</td>\n",
              "      <td>1.022193</td>\n",
              "      <td>0.000408</td>\n",
              "      <td>1.000888</td>\n",
              "    </tr>\n",
              "    <tr>\n",
              "      <th>26</th>\n",
              "      <td>(Coffee)</td>\n",
              "      <td>(Scone)</td>\n",
              "      <td>0.478394</td>\n",
              "      <td>0.034548</td>\n",
              "      <td>0.018067</td>\n",
              "      <td>0.037765</td>\n",
              "      <td>1.093107</td>\n",
              "      <td>0.001539</td>\n",
              "      <td>1.003343</td>\n",
              "    </tr>\n",
              "    <tr>\n",
              "      <th>28</th>\n",
              "      <td>(Coffee)</td>\n",
              "      <td>(Spanish Brunch)</td>\n",
              "      <td>0.478394</td>\n",
              "      <td>0.018172</td>\n",
              "      <td>0.010882</td>\n",
              "      <td>0.022747</td>\n",
              "      <td>1.251766</td>\n",
              "      <td>0.002189</td>\n",
              "      <td>1.004682</td>\n",
              "    </tr>\n",
              "  </tbody>\n",
              "</table>\n",
              "</div>"
            ],
            "text/plain": [
              "         antecedents       consequents  antecedent support  \\\n",
              "31           (Toast)          (Coffee)            0.033597   \n",
              "29  (Spanish Brunch)          (Coffee)            0.018172   \n",
              "19       (Medialuna)          (Coffee)            0.061807   \n",
              "23          (Pastry)          (Coffee)            0.086107   \n",
              "0        (Alfajores)          (Coffee)            0.036344   \n",
              "16           (Juice)          (Coffee)            0.038563   \n",
              "24        (Sandwich)          (Coffee)            0.071844   \n",
              "7             (Cake)          (Coffee)            0.103856   \n",
              "27           (Scone)          (Coffee)            0.034548   \n",
              "12         (Cookies)          (Coffee)            0.054411   \n",
              "14   (Hot chocolate)          (Coffee)            0.058320   \n",
              "5          (Brownie)          (Coffee)            0.040042   \n",
              "21          (Muffin)          (Coffee)            0.038457   \n",
              "2           (Pastry)           (Bread)            0.086107   \n",
              "10            (Cake)             (Tea)            0.103856   \n",
              "38     (Coffee, Tea)            (Cake)            0.049868   \n",
              "32        (Sandwich)             (Tea)            0.071844   \n",
              "8    (Hot chocolate)            (Cake)            0.058320   \n",
              "39    (Coffee, Cake)             (Tea)            0.054728   \n",
              "11             (Tea)            (Cake)            0.142631   \n",
              "37          (Pastry)   (Coffee, Bread)            0.086107   \n",
              "36   (Coffee, Bread)          (Pastry)            0.090016   \n",
              "6           (Coffee)            (Cake)            0.478394   \n",
              "34   (Coffee, Bread)            (Cake)            0.090016   \n",
              "9             (Cake)   (Hot chocolate)            0.103856   \n",
              "33             (Tea)        (Sandwich)            0.142631   \n",
              "22          (Coffee)          (Pastry)            0.478394   \n",
              "35            (Cake)   (Coffee, Bread)            0.103856   \n",
              "41            (Cake)     (Coffee, Tea)            0.103856   \n",
              "3            (Bread)          (Pastry)            0.327205   \n",
              "25          (Coffee)        (Sandwich)            0.478394   \n",
              "18          (Coffee)       (Medialuna)            0.478394   \n",
              "40             (Tea)    (Coffee, Cake)            0.142631   \n",
              "15          (Coffee)   (Hot chocolate)            0.478394   \n",
              "13          (Coffee)         (Cookies)            0.478394   \n",
              "30          (Coffee)           (Toast)            0.478394   \n",
              "17          (Coffee)           (Juice)            0.478394   \n",
              "1           (Coffee)       (Alfajores)            0.478394   \n",
              "4           (Coffee)         (Brownie)            0.478394   \n",
              "20          (Coffee)          (Muffin)            0.478394   \n",
              "26          (Coffee)           (Scone)            0.478394   \n",
              "28          (Coffee)  (Spanish Brunch)            0.478394   \n",
              "\n",
              "    consequent support   support  confidence      lift  leverage  conviction  \n",
              "31            0.478394  0.023666    0.704403  1.472431  0.007593    1.764582  \n",
              "29            0.478394  0.010882    0.598837  1.251766  0.002189    1.300235  \n",
              "19            0.478394  0.035182    0.569231  1.189878  0.005614    1.210871  \n",
              "23            0.478394  0.047544    0.552147  1.154168  0.006351    1.164682  \n",
              "0             0.478394  0.019651    0.540698  1.130235  0.002264    1.135648  \n",
              "16            0.478394  0.020602    0.534247  1.116750  0.002154    1.119919  \n",
              "24            0.478394  0.038246    0.532353  1.112792  0.003877    1.115384  \n",
              "7             0.478394  0.054728    0.526958  1.101515  0.005044    1.102664  \n",
              "27            0.478394  0.018067    0.522936  1.093107  0.001539    1.093366  \n",
              "12            0.478394  0.028209    0.518447  1.083723  0.002179    1.083174  \n",
              "14            0.478394  0.029583    0.507246  1.060311  0.001683    1.058553  \n",
              "5             0.478394  0.019651    0.490765  1.025860  0.000495    1.024293  \n",
              "21            0.478394  0.018806    0.489011  1.022193  0.000408    1.020777  \n",
              "2             0.327205  0.029160    0.338650  1.034977  0.000985    1.017305  \n",
              "10            0.142631  0.023772    0.228891  1.604781  0.008959    1.111865  \n",
              "38            0.103856  0.010037    0.201271  1.937977  0.004858    1.121962  \n",
              "32            0.142631  0.014369    0.200000  1.402222  0.004122    1.071712  \n",
              "8             0.103856  0.011410    0.195652  1.883874  0.005354    1.114125  \n",
              "39            0.142631  0.010037    0.183398  1.285822  0.002231    1.049923  \n",
              "11            0.103856  0.023772    0.166667  1.604781  0.008959    1.075372  \n",
              "37            0.090016  0.011199    0.130061  1.444872  0.003448    1.046033  \n",
              "36            0.086107  0.011199    0.124413  1.444872  0.003448    1.043749  \n",
              "6             0.103856  0.054728    0.114399  1.101515  0.005044    1.011905  \n",
              "34            0.103856  0.010037    0.111502  1.073621  0.000688    1.008606  \n",
              "9             0.058320  0.011410    0.109868  1.883874  0.005354    1.057910  \n",
              "33            0.071844  0.014369    0.100741  1.402222  0.004122    1.032134  \n",
              "22            0.086107  0.047544    0.099382  1.154168  0.006351    1.014740  \n",
              "35            0.090016  0.010037    0.096643  1.073621  0.000688    1.007336  \n",
              "41            0.049868  0.010037    0.096643  1.937977  0.004858    1.051779  \n",
              "3             0.086107  0.029160    0.089119  1.034977  0.000985    1.003306  \n",
              "25            0.071844  0.038246    0.079947  1.112792  0.003877    1.008807  \n",
              "18            0.061807  0.035182    0.073542  1.189878  0.005614    1.012667  \n",
              "40            0.054728  0.010037    0.070370  1.285822  0.002231    1.016827  \n",
              "15            0.058320  0.029583    0.061837  1.060311  0.001683    1.003749  \n",
              "13            0.054411  0.028209    0.058966  1.083723  0.002179    1.004841  \n",
              "30            0.033597  0.023666    0.049470  1.472431  0.007593    1.016699  \n",
              "17            0.038563  0.020602    0.043065  1.116750  0.002154    1.004705  \n",
              "1             0.036344  0.019651    0.041078  1.130235  0.002264    1.004936  \n",
              "4             0.040042  0.019651    0.041078  1.025860  0.000495    1.001080  \n",
              "20            0.038457  0.018806    0.039311  1.022193  0.000408    1.000888  \n",
              "26            0.034548  0.018067    0.037765  1.093107  0.001539    1.003343  \n",
              "28            0.018172  0.010882    0.022747  1.251766  0.002189    1.004682  "
            ]
          },
          "metadata": {
            "tags": []
          },
          "execution_count": 35
        }
      ]
    },
    {
      "metadata": {
        "id": "EHeYumdtiRjs",
        "colab_type": "code",
        "colab": {}
      },
      "cell_type": "code",
      "source": [
        "#higher the lift value the stronger the correlation between the items is"
      ],
      "execution_count": 0,
      "outputs": []
    },
    {
      "metadata": {
        "id": "F0Fi7KfBinIa",
        "colab_type": "code",
        "colab": {}
      },
      "cell_type": "code",
      "source": [
        ""
      ],
      "execution_count": 0,
      "outputs": []
    }
  ]
}