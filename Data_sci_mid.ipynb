{
  "nbformat": 4,
  "nbformat_minor": 0,
  "metadata": {
    "colab": {
      "name": "Data_sci_mid.ipynb",
      "version": "0.3.2",
      "provenance": [],
      "include_colab_link": true
    },
    "kernelspec": {
      "name": "python3",
      "display_name": "Python 3"
    },
    "accelerator": "GPU"
  },
  "cells": [
    {
      "cell_type": "markdown",
      "metadata": {
        "id": "view-in-github",
        "colab_type": "text"
      },
      "source": [
        "<a href=\"https://colab.research.google.com/github/jocobtt/Python-projects/blob/master/Data_sci_mid.ipynb\" target=\"_parent\"><img src=\"https://colab.research.google.com/assets/colab-badge.svg\" alt=\"Open In Colab\"/></a>"
      ]
    },
    {
      "metadata": {
        "id": "Y3d7Crxh4Jl4",
        "colab_type": "code",
        "outputId": "65bfa76d-0f7b-4d3c-856d-756a071cc74b",
        "colab": {
          "base_uri": "https://localhost:8080/",
          "height": 343
        }
      },
      "cell_type": "code",
      "source": [
        "!pip install seaborn \n",
        "!pip install sklearn\n",
        "!pip install statsmodels"
      ],
      "execution_count": 0,
      "outputs": [
        {
          "output_type": "stream",
          "text": [
            "Requirement already satisfied: seaborn in /usr/local/lib/python3.6/dist-packages (0.7.1)\n",
            "Collecting sklearn\n",
            "  Downloading https://files.pythonhosted.org/packages/1e/7a/dbb3be0ce9bd5c8b7e3d87328e79063f8b263b2b1bfa4774cb1147bfcd3f/sklearn-0.0.tar.gz\n",
            "Requirement already satisfied: scikit-learn in /usr/local/lib/python3.6/dist-packages (from sklearn) (0.19.2)\n",
            "Building wheels for collected packages: sklearn\n",
            "  Running setup.py bdist_wheel for sklearn ... \u001b[?25l-\b \bdone\n",
            "\u001b[?25h  Stored in directory: /root/.cache/pip/wheels/76/03/bb/589d421d27431bcd2c6da284d5f2286c8e3b2ea3cf1594c074\n",
            "Successfully built sklearn\n",
            "Installing collected packages: sklearn\n",
            "Successfully installed sklearn-0.0\n",
            "Requirement already satisfied: statsmodels in /usr/local/lib/python3.6/dist-packages (0.8.0)\n",
            "Requirement already satisfied: pandas in /usr/local/lib/python3.6/dist-packages (from statsmodels) (0.22.0)\n",
            "Requirement already satisfied: patsy in /usr/local/lib/python3.6/dist-packages (from statsmodels) (0.5.1)\n",
            "Requirement already satisfied: scipy in /usr/local/lib/python3.6/dist-packages (from statsmodels) (1.1.0)\n",
            "Requirement already satisfied: pytz>=2011k in /usr/local/lib/python3.6/dist-packages (from pandas->statsmodels) (2018.7)\n",
            "Requirement already satisfied: python-dateutil>=2 in /usr/local/lib/python3.6/dist-packages (from pandas->statsmodels) (2.5.3)\n",
            "Requirement already satisfied: numpy>=1.9.0 in /usr/local/lib/python3.6/dist-packages (from pandas->statsmodels) (1.14.6)\n",
            "Requirement already satisfied: six in /usr/local/lib/python3.6/dist-packages (from patsy->statsmodels) (1.11.0)\n"
          ],
          "name": "stdout"
        }
      ]
    },
    {
      "metadata": {
        "id": "E7z76GKu4haO",
        "colab_type": "code",
        "colab": {}
      },
      "cell_type": "code",
      "source": [
        "import os \n",
        "import pandas as pd\n",
        "import numpy as np \n",
        "import seaborn as sns\n",
        "%matplotlib inline\n"
      ],
      "execution_count": 0,
      "outputs": []
    },
    {
      "metadata": {
        "id": "KTpLfW7N4Jl9",
        "colab_type": "code",
        "outputId": "3420080a-d9b0-4a7e-cb67-ebe55ff15857",
        "colab": {
          "base_uri": "https://localhost:8080/",
          "height": 71
        }
      },
      "cell_type": "code",
      "source": [
        "import statsmodels.api as sm"
      ],
      "execution_count": 0,
      "outputs": [
        {
          "output_type": "stream",
          "text": [
            "/usr/local/lib/python3.6/dist-packages/statsmodels/compat/pandas.py:56: FutureWarning: The pandas.core.datetools module is deprecated and will be removed in a future version. Please use the pandas.tseries module instead.\n",
            "  from pandas.core import datetools\n"
          ],
          "name": "stderr"
        }
      ]
    },
    {
      "metadata": {
        "id": "TgV49-Ed4JmD",
        "colab_type": "code",
        "colab": {}
      },
      "cell_type": "code",
      "source": [
        "paths = 'http://bigdata.cs.byu.edu/Lectures/EEGEyeState.csv'\n",
        "df = pd.read_table(paths,sep=',',encoding='latin1')"
      ],
      "execution_count": 0,
      "outputs": []
    },
    {
      "metadata": {
        "id": "Dam9igaH4JmJ",
        "colab_type": "text"
      },
      "cell_type": "markdown",
      "source": [
        "# Exploratory Data Analysis"
      ]
    },
    {
      "metadata": {
        "id": "SytlUa-k4JmJ",
        "colab_type": "code",
        "outputId": "7d6d88df-2ccb-4f5b-e552-fe18cf26b9e1",
        "colab": {
          "base_uri": "https://localhost:8080/",
          "height": 204
        }
      },
      "cell_type": "code",
      "source": [
        "df.head()"
      ],
      "execution_count": 0,
      "outputs": [
        {
          "output_type": "execute_result",
          "data": {
            "text/html": [
              "<div>\n",
              "<style scoped>\n",
              "    .dataframe tbody tr th:only-of-type {\n",
              "        vertical-align: middle;\n",
              "    }\n",
              "\n",
              "    .dataframe tbody tr th {\n",
              "        vertical-align: top;\n",
              "    }\n",
              "\n",
              "    .dataframe thead th {\n",
              "        text-align: right;\n",
              "    }\n",
              "</style>\n",
              "<table border=\"1\" class=\"dataframe\">\n",
              "  <thead>\n",
              "    <tr style=\"text-align: right;\">\n",
              "      <th></th>\n",
              "      <th>AF3</th>\n",
              "      <th>F7</th>\n",
              "      <th>F3</th>\n",
              "      <th>FC5</th>\n",
              "      <th>T7</th>\n",
              "      <th>P7</th>\n",
              "      <th>O1</th>\n",
              "      <th>O2</th>\n",
              "      <th>P8</th>\n",
              "      <th>T8</th>\n",
              "      <th>FC6</th>\n",
              "      <th>F4</th>\n",
              "      <th>F8</th>\n",
              "      <th>AF4</th>\n",
              "      <th>eyeDetection</th>\n",
              "    </tr>\n",
              "  </thead>\n",
              "  <tbody>\n",
              "    <tr>\n",
              "      <th>0</th>\n",
              "      <td>4329.23</td>\n",
              "      <td>4009.23</td>\n",
              "      <td>4289.23</td>\n",
              "      <td>4148.21</td>\n",
              "      <td>4350.26</td>\n",
              "      <td>4586.15</td>\n",
              "      <td>4096.92</td>\n",
              "      <td>4641.03</td>\n",
              "      <td>4222.05</td>\n",
              "      <td>4238.46</td>\n",
              "      <td>4211.28</td>\n",
              "      <td>4280.51</td>\n",
              "      <td>4635.90</td>\n",
              "      <td>4393.85</td>\n",
              "      <td>0</td>\n",
              "    </tr>\n",
              "    <tr>\n",
              "      <th>1</th>\n",
              "      <td>4324.62</td>\n",
              "      <td>4004.62</td>\n",
              "      <td>4293.85</td>\n",
              "      <td>4148.72</td>\n",
              "      <td>4342.05</td>\n",
              "      <td>4586.67</td>\n",
              "      <td>4097.44</td>\n",
              "      <td>4638.97</td>\n",
              "      <td>4210.77</td>\n",
              "      <td>4226.67</td>\n",
              "      <td>4207.69</td>\n",
              "      <td>4279.49</td>\n",
              "      <td>4632.82</td>\n",
              "      <td>4384.10</td>\n",
              "      <td>0</td>\n",
              "    </tr>\n",
              "    <tr>\n",
              "      <th>2</th>\n",
              "      <td>4327.69</td>\n",
              "      <td>4006.67</td>\n",
              "      <td>4295.38</td>\n",
              "      <td>4156.41</td>\n",
              "      <td>4336.92</td>\n",
              "      <td>4583.59</td>\n",
              "      <td>4096.92</td>\n",
              "      <td>4630.26</td>\n",
              "      <td>4207.69</td>\n",
              "      <td>4222.05</td>\n",
              "      <td>4206.67</td>\n",
              "      <td>4282.05</td>\n",
              "      <td>4628.72</td>\n",
              "      <td>4389.23</td>\n",
              "      <td>0</td>\n",
              "    </tr>\n",
              "    <tr>\n",
              "      <th>3</th>\n",
              "      <td>4328.72</td>\n",
              "      <td>4011.79</td>\n",
              "      <td>4296.41</td>\n",
              "      <td>4155.90</td>\n",
              "      <td>4343.59</td>\n",
              "      <td>4582.56</td>\n",
              "      <td>4097.44</td>\n",
              "      <td>4630.77</td>\n",
              "      <td>4217.44</td>\n",
              "      <td>4235.38</td>\n",
              "      <td>4210.77</td>\n",
              "      <td>4287.69</td>\n",
              "      <td>4632.31</td>\n",
              "      <td>4396.41</td>\n",
              "      <td>0</td>\n",
              "    </tr>\n",
              "    <tr>\n",
              "      <th>4</th>\n",
              "      <td>4326.15</td>\n",
              "      <td>4011.79</td>\n",
              "      <td>4292.31</td>\n",
              "      <td>4151.28</td>\n",
              "      <td>4347.69</td>\n",
              "      <td>4586.67</td>\n",
              "      <td>4095.90</td>\n",
              "      <td>4627.69</td>\n",
              "      <td>4210.77</td>\n",
              "      <td>4244.10</td>\n",
              "      <td>4212.82</td>\n",
              "      <td>4288.21</td>\n",
              "      <td>4632.82</td>\n",
              "      <td>4398.46</td>\n",
              "      <td>0</td>\n",
              "    </tr>\n",
              "  </tbody>\n",
              "</table>\n",
              "</div>"
            ],
            "text/plain": [
              "       AF3       F7       F3      FC5       T7       P7       O1       O2  \\\n",
              "0  4329.23  4009.23  4289.23  4148.21  4350.26  4586.15  4096.92  4641.03   \n",
              "1  4324.62  4004.62  4293.85  4148.72  4342.05  4586.67  4097.44  4638.97   \n",
              "2  4327.69  4006.67  4295.38  4156.41  4336.92  4583.59  4096.92  4630.26   \n",
              "3  4328.72  4011.79  4296.41  4155.90  4343.59  4582.56  4097.44  4630.77   \n",
              "4  4326.15  4011.79  4292.31  4151.28  4347.69  4586.67  4095.90  4627.69   \n",
              "\n",
              "        P8       T8      FC6       F4       F8      AF4  eyeDetection  \n",
              "0  4222.05  4238.46  4211.28  4280.51  4635.90  4393.85             0  \n",
              "1  4210.77  4226.67  4207.69  4279.49  4632.82  4384.10             0  \n",
              "2  4207.69  4222.05  4206.67  4282.05  4628.72  4389.23             0  \n",
              "3  4217.44  4235.38  4210.77  4287.69  4632.31  4396.41             0  \n",
              "4  4210.77  4244.10  4212.82  4288.21  4632.82  4398.46             0  "
            ]
          },
          "metadata": {
            "tags": []
          },
          "execution_count": 7
        }
      ]
    },
    {
      "metadata": {
        "id": "GcFxcL764JmP",
        "colab_type": "code",
        "outputId": "a15262e2-44ce-4db5-81e6-fd8c7d5ed1a8",
        "colab": {
          "base_uri": "https://localhost:8080/",
          "height": 34
        }
      },
      "cell_type": "code",
      "source": [
        "df.shape"
      ],
      "execution_count": 0,
      "outputs": [
        {
          "output_type": "execute_result",
          "data": {
            "text/plain": [
              "(14980, 15)"
            ]
          },
          "metadata": {
            "tags": []
          },
          "execution_count": 8
        }
      ]
    },
    {
      "metadata": {
        "id": "CyUFinuP4JmW",
        "colab_type": "code",
        "outputId": "9965a265-5b60-4889-bba3-5246427d1a8f",
        "colab": {
          "base_uri": "https://localhost:8080/",
          "height": 331
        }
      },
      "cell_type": "code",
      "source": [
        "sns.heatmap(df.corr())"
      ],
      "execution_count": 0,
      "outputs": [
        {
          "output_type": "execute_result",
          "data": {
            "text/plain": [
              "<matplotlib.axes._subplots.AxesSubplot at 0x7f626aa81a58>"
            ]
          },
          "metadata": {
            "tags": []
          },
          "execution_count": 9
        },
        {
          "output_type": "display_data",
          "data": {
            "image/png": "[encoded data removed]",
            "text/plain": [
              "<matplotlib.figure.Figure at 0x7f626aee2f60>"
            ]
          },
          "metadata": {
            "tags": []
          }
        }
      ]
    },
    {
      "metadata": {
        "id": "l4VZ3MCu4Jmc",
        "colab_type": "code",
        "outputId": "8ad39d40-57ef-468a-f16c-bae0855377a1",
        "colab": {
          "base_uri": "https://localhost:8080/",
          "height": 357
        }
      },
      "cell_type": "code",
      "source": [
        "df.info()"
      ],
      "execution_count": 0,
      "outputs": [
        {
          "output_type": "stream",
          "text": [
            "<class 'pandas.core.frame.DataFrame'>\n",
            "RangeIndex: 14980 entries, 0 to 14979\n",
            "Data columns (total 15 columns):\n",
            "AF3             14980 non-null float64\n",
            "F7              14980 non-null float64\n",
            "F3              14980 non-null float64\n",
            "FC5             14980 non-null float64\n",
            "T7              14980 non-null float64\n",
            "P7              14980 non-null float64\n",
            "O1              14980 non-null float64\n",
            "O2              14980 non-null float64\n",
            "P8              14980 non-null float64\n",
            "T8              14980 non-null float64\n",
            "FC6             14980 non-null float64\n",
            "F4              14980 non-null float64\n",
            "F8              14980 non-null float64\n",
            "AF4             14980 non-null float64\n",
            "eyeDetection    14980 non-null int64\n",
            "dtypes: float64(14), int64(1)\n",
            "memory usage: 1.7 MB\n"
          ],
          "name": "stdout"
        }
      ]
    },
    {
      "metadata": {
        "id": "REeJsyKg4Jmf",
        "colab_type": "code",
        "outputId": "8e1cc7eb-5300-437a-afd9-f34baec8388e",
        "colab": {
          "base_uri": "https://localhost:8080/",
          "height": 317
        }
      },
      "cell_type": "code",
      "source": [
        "df.describe()"
      ],
      "execution_count": 0,
      "outputs": [
        {
          "output_type": "execute_result",
          "data": {
            "text/html": [
              "<div>\n",
              "<style scoped>\n",
              "    .dataframe tbody tr th:only-of-type {\n",
              "        vertical-align: middle;\n",
              "    }\n",
              "\n",
              "    .dataframe tbody tr th {\n",
              "        vertical-align: top;\n",
              "    }\n",
              "\n",
              "    .dataframe thead th {\n",
              "        text-align: right;\n",
              "    }\n",
              "</style>\n",
              "<table border=\"1\" class=\"dataframe\">\n",
              "  <thead>\n",
              "    <tr style=\"text-align: right;\">\n",
              "      <th></th>\n",
              "      <th>AF3</th>\n",
              "      <th>F7</th>\n",
              "      <th>F3</th>\n",
              "      <th>FC5</th>\n",
              "      <th>T7</th>\n",
              "      <th>P7</th>\n",
              "      <th>O1</th>\n",
              "      <th>O2</th>\n",
              "      <th>P8</th>\n",
              "      <th>T8</th>\n",
              "      <th>FC6</th>\n",
              "      <th>F4</th>\n",
              "      <th>F8</th>\n",
              "      <th>AF4</th>\n",
              "      <th>eyeDetection</th>\n",
              "    </tr>\n",
              "  </thead>\n",
              "  <tbody>\n",
              "    <tr>\n",
              "      <th>count</th>\n",
              "      <td>14980.000000</td>\n",
              "      <td>14980.000000</td>\n",
              "      <td>14980.000000</td>\n",
              "      <td>14980.000000</td>\n",
              "      <td>14980.000000</td>\n",
              "      <td>14980.000000</td>\n",
              "      <td>14980.000000</td>\n",
              "      <td>14980.000000</td>\n",
              "      <td>14980.000000</td>\n",
              "      <td>14980.000000</td>\n",
              "      <td>14980.000000</td>\n",
              "      <td>14980.000000</td>\n",
              "      <td>14980.000000</td>\n",
              "      <td>14980.000000</td>\n",
              "      <td>14980.000000</td>\n",
              "    </tr>\n",
              "    <tr>\n",
              "      <th>mean</th>\n",
              "      <td>4321.917777</td>\n",
              "      <td>4009.767694</td>\n",
              "      <td>4264.022433</td>\n",
              "      <td>4164.946326</td>\n",
              "      <td>4341.741075</td>\n",
              "      <td>4644.022379</td>\n",
              "      <td>4110.400160</td>\n",
              "      <td>4616.056904</td>\n",
              "      <td>4218.826610</td>\n",
              "      <td>4231.316200</td>\n",
              "      <td>4202.456900</td>\n",
              "      <td>4279.232774</td>\n",
              "      <td>4615.205336</td>\n",
              "      <td>4416.435832</td>\n",
              "      <td>0.448798</td>\n",
              "    </tr>\n",
              "    <tr>\n",
              "      <th>std</th>\n",
              "      <td>2492.072174</td>\n",
              "      <td>45.941672</td>\n",
              "      <td>44.428052</td>\n",
              "      <td>5216.404632</td>\n",
              "      <td>34.738821</td>\n",
              "      <td>2924.789537</td>\n",
              "      <td>4600.926543</td>\n",
              "      <td>29.292603</td>\n",
              "      <td>2136.408523</td>\n",
              "      <td>38.050903</td>\n",
              "      <td>37.785981</td>\n",
              "      <td>41.544312</td>\n",
              "      <td>1208.369958</td>\n",
              "      <td>5891.285043</td>\n",
              "      <td>0.497388</td>\n",
              "    </tr>\n",
              "    <tr>\n",
              "      <th>min</th>\n",
              "      <td>1030.770000</td>\n",
              "      <td>2830.770000</td>\n",
              "      <td>1040.000000</td>\n",
              "      <td>2453.330000</td>\n",
              "      <td>2089.740000</td>\n",
              "      <td>2768.210000</td>\n",
              "      <td>2086.150000</td>\n",
              "      <td>4567.180000</td>\n",
              "      <td>1357.950000</td>\n",
              "      <td>1816.410000</td>\n",
              "      <td>3273.330000</td>\n",
              "      <td>2257.950000</td>\n",
              "      <td>86.666700</td>\n",
              "      <td>1366.150000</td>\n",
              "      <td>0.000000</td>\n",
              "    </tr>\n",
              "    <tr>\n",
              "      <th>25%</th>\n",
              "      <td>4280.510000</td>\n",
              "      <td>3990.770000</td>\n",
              "      <td>4250.260000</td>\n",
              "      <td>4108.210000</td>\n",
              "      <td>4331.790000</td>\n",
              "      <td>4611.790000</td>\n",
              "      <td>4057.950000</td>\n",
              "      <td>4604.620000</td>\n",
              "      <td>4190.770000</td>\n",
              "      <td>4220.510000</td>\n",
              "      <td>4190.260000</td>\n",
              "      <td>4267.690000</td>\n",
              "      <td>4590.770000</td>\n",
              "      <td>4342.050000</td>\n",
              "      <td>0.000000</td>\n",
              "    </tr>\n",
              "    <tr>\n",
              "      <th>50%</th>\n",
              "      <td>4294.360000</td>\n",
              "      <td>4005.640000</td>\n",
              "      <td>4262.560000</td>\n",
              "      <td>4120.510000</td>\n",
              "      <td>4338.970000</td>\n",
              "      <td>4617.950000</td>\n",
              "      <td>4070.260000</td>\n",
              "      <td>4613.330000</td>\n",
              "      <td>4199.490000</td>\n",
              "      <td>4229.230000</td>\n",
              "      <td>4200.510000</td>\n",
              "      <td>4276.920000</td>\n",
              "      <td>4603.080000</td>\n",
              "      <td>4354.870000</td>\n",
              "      <td>0.000000</td>\n",
              "    </tr>\n",
              "    <tr>\n",
              "      <th>75%</th>\n",
              "      <td>4311.790000</td>\n",
              "      <td>4023.080000</td>\n",
              "      <td>4270.770000</td>\n",
              "      <td>4132.310000</td>\n",
              "      <td>4347.180000</td>\n",
              "      <td>4626.670000</td>\n",
              "      <td>4083.590000</td>\n",
              "      <td>4624.100000</td>\n",
              "      <td>4209.230000</td>\n",
              "      <td>4239.490000</td>\n",
              "      <td>4211.280000</td>\n",
              "      <td>4287.180000</td>\n",
              "      <td>4617.440000</td>\n",
              "      <td>4372.820000</td>\n",
              "      <td>1.000000</td>\n",
              "    </tr>\n",
              "    <tr>\n",
              "      <th>max</th>\n",
              "      <td>309231.000000</td>\n",
              "      <td>7804.620000</td>\n",
              "      <td>6880.510000</td>\n",
              "      <td>642564.000000</td>\n",
              "      <td>6474.360000</td>\n",
              "      <td>362564.000000</td>\n",
              "      <td>567179.000000</td>\n",
              "      <td>7264.100000</td>\n",
              "      <td>265641.000000</td>\n",
              "      <td>6674.360000</td>\n",
              "      <td>6823.080000</td>\n",
              "      <td>7002.560000</td>\n",
              "      <td>152308.000000</td>\n",
              "      <td>715897.000000</td>\n",
              "      <td>1.000000</td>\n",
              "    </tr>\n",
              "  </tbody>\n",
              "</table>\n",
              "</div>"
            ],
            "text/plain": [
              "                 AF3            F7            F3            FC5            T7  \\\n",
              "count   14980.000000  14980.000000  14980.000000   14980.000000  14980.000000   \n",
              "mean     4321.917777   4009.767694   4264.022433    4164.946326   4341.741075   \n",
              "std      2492.072174     45.941672     44.428052    5216.404632     34.738821   \n",
              "min      1030.770000   2830.770000   1040.000000    2453.330000   2089.740000   \n",
              "25%      4280.510000   3990.770000   4250.260000    4108.210000   4331.790000   \n",
              "50%      4294.360000   4005.640000   4262.560000    4120.510000   4338.970000   \n",
              "75%      4311.790000   4023.080000   4270.770000    4132.310000   4347.180000   \n",
              "max    309231.000000   7804.620000   6880.510000  642564.000000   6474.360000   \n",
              "\n",
              "                  P7             O1            O2             P8  \\\n",
              "count   14980.000000   14980.000000  14980.000000   14980.000000   \n",
              "mean     4644.022379    4110.400160   4616.056904    4218.826610   \n",
              "std      2924.789537    4600.926543     29.292603    2136.408523   \n",
              "min      2768.210000    2086.150000   4567.180000    1357.950000   \n",
              "25%      4611.790000    4057.950000   4604.620000    4190.770000   \n",
              "50%      4617.950000    4070.260000   4613.330000    4199.490000   \n",
              "75%      4626.670000    4083.590000   4624.100000    4209.230000   \n",
              "max    362564.000000  567179.000000   7264.100000  265641.000000   \n",
              "\n",
              "                 T8           FC6            F4             F8            AF4  \\\n",
              "count  14980.000000  14980.000000  14980.000000   14980.000000   14980.000000   \n",
              "mean    4231.316200   4202.456900   4279.232774    4615.205336    4416.435832   \n",
              "std       38.050903     37.785981     41.544312    1208.369958    5891.285043   \n",
              "min     1816.410000   3273.330000   2257.950000      86.666700    1366.150000   \n",
              "25%     4220.510000   4190.260000   4267.690000    4590.770000    4342.050000   \n",
              "50%     4229.230000   4200.510000   4276.920000    4603.080000    4354.870000   \n",
              "75%     4239.490000   4211.280000   4287.180000    4617.440000    4372.820000   \n",
              "max     6674.360000   6823.080000   7002.560000  152308.000000  715897.000000   \n",
              "\n",
              "       eyeDetection  \n",
              "count  14980.000000  \n",
              "mean       0.448798  \n",
              "std        0.497388  \n",
              "min        0.000000  \n",
              "25%        0.000000  \n",
              "50%        0.000000  \n",
              "75%        1.000000  \n",
              "max        1.000000  "
            ]
          },
          "metadata": {
            "tags": []
          },
          "execution_count": 11
        }
      ]
    },
    {
      "metadata": {
        "id": "eN2TQfPv4Jml",
        "colab_type": "code",
        "outputId": "4d42da5c-f200-4e55-af4c-29e80ffc7d2f",
        "colab": {
          "base_uri": "https://localhost:8080/",
          "height": 34
        }
      },
      "cell_type": "code",
      "source": [
        "#find null values if any\n",
        "df.isnull().values.any()"
      ],
      "execution_count": 0,
      "outputs": [
        {
          "output_type": "execute_result",
          "data": {
            "text/plain": [
              "False"
            ]
          },
          "metadata": {
            "tags": []
          },
          "execution_count": 12
        }
      ]
    },
    {
      "metadata": {
        "id": "4Tl3sWIF4Jmq",
        "colab_type": "code",
        "colab": {}
      },
      "cell_type": "code",
      "source": [
        "#for cleaning the data - change from index and remove outliers\n"
      ],
      "execution_count": 0,
      "outputs": []
    },
    {
      "metadata": {
        "id": "IXBihj1S4Jmt",
        "colab_type": "code",
        "colab": {}
      },
      "cell_type": "code",
      "source": [
        "\n"
      ],
      "execution_count": 0,
      "outputs": []
    },
    {
      "metadata": {
        "id": "FfUHOwWf4Jmw",
        "colab_type": "code",
        "colab": {}
      },
      "cell_type": "code",
      "source": [
        "#try logistic regression\n",
        "import statsmodels.formula.api as smf\n",
        "from sklearn.model_selection import train_test_split\n",
        "from patsy import dmatrices\n",
        "from sklearn.linear_model import Lasso, LassoCV, LogisticRegression"
      ],
      "execution_count": 0,
      "outputs": []
    },
    {
      "metadata": {
        "id": "IR8De57i4Jm1",
        "colab_type": "code",
        "colab": {}
      },
      "cell_type": "code",
      "source": [
        "X = list(df)[:-1]\n",
        "y = ['eyeDetection']"
      ],
      "execution_count": 0,
      "outputs": []
    },
    {
      "metadata": {
        "id": "la-V6qoB4Jm5",
        "colab_type": "code",
        "colab": {}
      },
      "cell_type": "code",
      "source": [
        "#form = smf.glm(formula = , data=df,family=sm.families.Binomial()).fit()"
      ],
      "execution_count": 0,
      "outputs": []
    },
    {
      "metadata": {
        "id": "TrtnQCHm4Jm8",
        "colab_type": "code",
        "colab": {}
      },
      "cell_type": "code",
      "source": [
        "#form.summary()"
      ],
      "execution_count": 0,
      "outputs": []
    },
    {
      "metadata": {
        "id": "GFcwV7Tt4Jm_",
        "colab_type": "code",
        "colab": {}
      },
      "cell_type": "code",
      "source": [
        "#100*(np.exp(form.params)-1)"
      ],
      "execution_count": 0,
      "outputs": []
    },
    {
      "metadata": {
        "id": "Dya2LuK44JnD",
        "colab_type": "code",
        "colab": {}
      },
      "cell_type": "code",
      "source": [
        "#100*(np.exp(form.conf_int())-1)"
      ],
      "execution_count": 0,
      "outputs": []
    },
    {
      "metadata": {
        "id": "DoU8u9tF4JnH",
        "colab_type": "code",
        "colab": {}
      },
      "cell_type": "code",
      "source": [
        "from sklearn.metrics import confusion_matrix"
      ],
      "execution_count": 0,
      "outputs": []
    },
    {
      "metadata": {
        "id": "_x4taMEl4JnJ",
        "colab_type": "code",
        "colab": {}
      },
      "cell_type": "code",
      "source": [
        "y, X = dmatrices('eyeDetection~AF3+F7+F3+FC5+T7+P7+O1+O2+P8+T8+FC6+F4+F8+AF4',df,return_type='dataframe')"
      ],
      "execution_count": 0,
      "outputs": []
    },
    {
      "metadata": {
        "id": "awc7VoBG4JnM",
        "colab_type": "code",
        "colab": {}
      },
      "cell_type": "code",
      "source": [
        "X_train, X_test, y_train, y_test = train_test_split(X,y,test_size=.1,random_state=40)"
      ],
      "execution_count": 0,
      "outputs": []
    },
    {
      "metadata": {
        "id": "7LYVVtVe4JnQ",
        "colab_type": "code",
        "colab": {}
      },
      "cell_type": "code",
      "source": [
        "reg = LogisticRegression(fit_intercept=False,C=1e9)"
      ],
      "execution_count": 0,
      "outputs": []
    },
    {
      "metadata": {
        "id": "aldxuhGh4JnS",
        "colab_type": "code",
        "outputId": "66c29383-ee1b-4d65-e855-3e3ab17a054e",
        "colab": {
          "base_uri": "https://localhost:8080/",
          "height": 71
        }
      },
      "cell_type": "code",
      "source": [
        "valz = reg.fit(X_train,y_train)"
      ],
      "execution_count": 0,
      "outputs": [
        {
          "output_type": "stream",
          "text": [
            "/usr/local/lib/python3.6/dist-packages/sklearn/utils/validation.py:578: DataConversionWarning: A column-vector y was passed when a 1d array was expected. Please change the shape of y to (n_samples, ), for example using ravel().\n",
            "  y = column_or_1d(y, warn=True)\n"
          ],
          "name": "stderr"
        }
      ]
    },
    {
      "metadata": {
        "id": "7UEjrWXB4JnV",
        "colab_type": "code",
        "outputId": "a455cb3e-6e65-4a82-8d7d-c5fc1bfeb130",
        "colab": {
          "base_uri": "https://localhost:8080/",
          "height": 102
        }
      },
      "cell_type": "code",
      "source": [
        "valz.coef_"
      ],
      "execution_count": 0,
      "outputs": [
        {
          "output_type": "execute_result",
          "data": {
            "text/plain": [
              "array([[ 4.08667807e-06,  5.43519915e-03, -1.99941158e-02,\n",
              "         1.39705603e-02, -1.04640252e-02,  3.87988099e-02,\n",
              "        -4.11804486e-02,  3.33203453e-03,  3.04659202e-04,\n",
              "         5.06474605e-03,  4.71427366e-03, -1.06102713e-02,\n",
              "         7.04084964e-03, -1.25584342e-03,  5.95526068e-03]])"
            ]
          },
          "metadata": {
            "tags": []
          },
          "execution_count": 24
        }
      ]
    },
    {
      "metadata": {
        "id": "4E4KBvba4JnZ",
        "colab_type": "code",
        "colab": {}
      },
      "cell_type": "code",
      "source": [
        "preds = valz.predict(X_test)"
      ],
      "execution_count": 0,
      "outputs": []
    },
    {
      "metadata": {
        "id": "7866rJc14Jnc",
        "colab_type": "code",
        "outputId": "0e434641-bba6-4ac6-cdb5-85780b010e61",
        "colab": {
          "base_uri": "https://localhost:8080/",
          "height": 51
        }
      },
      "cell_type": "code",
      "source": [
        "print(confusion_matrix(y_test,preds))"
      ],
      "execution_count": 0,
      "outputs": [
        {
          "output_type": "stream",
          "text": [
            "[[602 206]\n",
            " [365 325]]\n"
          ],
          "name": "stdout"
        }
      ]
    },
    {
      "metadata": {
        "id": "6YmROLG58LQ8",
        "colab_type": "code",
        "outputId": "909d4c41-30fb-41d8-c02e-036dbee86a19",
        "colab": {
          "base_uri": "https://localhost:8080/",
          "height": 34
        }
      },
      "cell_type": "code",
      "source": [
        "# ROC Curve\n",
        "from sklearn.metrics import roc_auc_score\n",
        "roc_auc_score(y_test, preds) # AUC is 60%\n"
      ],
      "execution_count": 0,
      "outputs": [
        {
          "output_type": "execute_result",
          "data": {
            "text/plain": [
              "0.608031998852059"
            ]
          },
          "metadata": {
            "tags": []
          },
          "execution_count": 54
        }
      ]
    },
    {
      "metadata": {
        "id": "G36s5pEC8LfT",
        "colab_type": "code",
        "colab": {}
      },
      "cell_type": "code",
      "source": [
        "# Precision/Accuracy"
      ],
      "execution_count": 0,
      "outputs": []
    },
    {
      "metadata": {
        "id": "Xh07Vq0N4Jng",
        "colab_type": "code",
        "colab": {}
      },
      "cell_type": "code",
      "source": [
        "#try k neighbors\n",
        "from sklearn.neighbors import KNeighborsClassifier\n",
        "from sklearn.metrics import accuracy_score\n",
        "from sklearn.model_selection import KFold\n",
        "from mlxtend.feature_selection import ExhaustiveFeatureSelector as EFS "
      ],
      "execution_count": 0,
      "outputs": []
    },
    {
      "metadata": {
        "id": "A5_QFWUH4Jnq",
        "colab_type": "code",
        "colab": {}
      },
      "cell_type": "code",
      "source": [
        "kn_mod = KNeighborsClassifier(n_neighbors=3)"
      ],
      "execution_count": 0,
      "outputs": []
    },
    {
      "metadata": {
        "id": "AJAKcXfUB05x",
        "colab_type": "code",
        "colab": {}
      },
      "cell_type": "code",
      "source": [
        "e = EFS(kn_mod,min_features=1,max_features=7,print_progress=True,scoring='accuracy')"
      ],
      "execution_count": 0,
      "outputs": []
    },
    {
      "metadata": {
        "id": "6sobPr1b4Jnt",
        "colab_type": "code",
        "outputId": "e60cedd7-3612-4fd3-c4d9-1fb77476dd7c",
        "colab": {
          "base_uri": "https://localhost:8080/",
          "height": 122
        }
      },
      "cell_type": "code",
      "source": [
        "kn_mod.fit(X_train,y_train)"
      ],
      "execution_count": 0,
      "outputs": [
        {
          "output_type": "stream",
          "text": [
            "/usr/local/lib/python3.6/dist-packages/ipykernel_launcher.py:1: DataConversionWarning: A column-vector y was passed when a 1d array was expected. Please change the shape of y to (n_samples, ), for example using ravel().\n",
            "  \"\"\"Entry point for launching an IPython kernel.\n"
          ],
          "name": "stderr"
        },
        {
          "output_type": "execute_result",
          "data": {
            "text/plain": [
              "KNeighborsClassifier(algorithm='auto', leaf_size=30, metric='minkowski',\n",
              "           metric_params=None, n_jobs=1, n_neighbors=3, p=2,\n",
              "           weights='uniform')"
            ]
          },
          "metadata": {
            "tags": []
          },
          "execution_count": 29
        }
      ]
    },
    {
      "metadata": {
        "id": "pwwrsQWA4Jnw",
        "colab_type": "code",
        "colab": {}
      },
      "cell_type": "code",
      "source": [
        "y_pred = kn_mod.predict(X_test)"
      ],
      "execution_count": 0,
      "outputs": []
    },
    {
      "metadata": {
        "id": "tqyXplwG4Jn0",
        "colab_type": "code",
        "outputId": "39bd8f07-d6f8-44d7-c39e-85944b961cd5",
        "colab": {
          "base_uri": "https://localhost:8080/",
          "height": 34
        }
      },
      "cell_type": "code",
      "source": [
        "score = accuracy_score(y_test,y_pred)\n",
        "print(score)"
      ],
      "execution_count": 0,
      "outputs": [
        {
          "output_type": "stream",
          "text": [
            "0.9732977303070761\n"
          ],
          "name": "stdout"
        }
      ]
    },
    {
      "metadata": {
        "id": "Tk3lQy8r4Jn3",
        "colab_type": "code",
        "outputId": "6d915940-0888-479c-bd23-1150ae9f65c7",
        "colab": {
          "base_uri": "https://localhost:8080/",
          "height": 51
        }
      },
      "cell_type": "code",
      "source": [
        "#use confusion matrix to measure accuracy\n",
        "print(confusion_matrix(y_test,y_pred))"
      ],
      "execution_count": 0,
      "outputs": [
        {
          "output_type": "stream",
          "text": [
            "[[788  20]\n",
            " [ 20 670]]\n"
          ],
          "name": "stdout"
        }
      ]
    },
    {
      "metadata": {
        "id": "hdTXzChc7GHW",
        "colab_type": "text"
      },
      "cell_type": "markdown",
      "source": [
        "Try a Neural Network"
      ]
    },
    {
      "metadata": {
        "id": "5NkKOW0B7CDc",
        "colab_type": "code",
        "outputId": "82ee374b-b9ac-416e-c92d-ad8336a86a3a",
        "colab": {
          "base_uri": "https://localhost:8080/",
          "height": 54
        }
      },
      "cell_type": "code",
      "source": [
        "# install pytorch \n",
        "from os.path import exists\n",
        "from wheel.pep425tags import get_abbr_impl, get_impl_ver, get_abi_tag\n",
        "platform = '{}{}-{}'.format(get_abbr_impl(), get_impl_ver(), get_abi_tag())\n",
        "cuda_output = !ldconfig -p|grep cudart.so|sed -e 's/.*\\.\\([0-9]*\\)\\.\\([0-9]*\\)$/cu\\1\\2/'\n",
        "accelerator = cuda_output[0] if exists('/dev/nvidia0') else 'cpu'\n",
        "\n",
        "!pip install -q http://download.pytorch.org/whl/{accelerator}/torch-0.4.1-{platform}-linux_x86_64.whl torchvision\n",
        "import torch"
      ],
      "execution_count": 0,
      "outputs": [
        {
          "output_type": "stream",
          "text": [
            "tcmalloc: large alloc 1073750016 bytes == 0x591ec000 @  0x7f04758b62a4 0x594e17 0x626104 0x51190a 0x4f5277 0x510c78 0x5119bd 0x4f5277 0x4f3338 0x510fb0 0x5119bd 0x4f5277 0x4f3338 0x510fb0 0x5119bd 0x4f5277 0x4f3338 0x510fb0 0x5119bd 0x4f6070 0x510c78 0x5119bd 0x4f5277 0x4f3338 0x510fb0 0x5119bd 0x4f6070 0x4f3338 0x510fb0 0x5119bd 0x4f6070\n"
          ],
          "name": "stdout"
        }
      ]
    },
    {
      "metadata": {
        "id": "-H2u4i8xq2xI",
        "colab_type": "code",
        "colab": {}
      },
      "cell_type": "code",
      "source": [
        ""
      ],
      "execution_count": 0,
      "outputs": []
    },
    {
      "metadata": {
        "id": "pitwHT-Z4Jn7",
        "colab_type": "code",
        "colab": {}
      },
      "cell_type": "code",
      "source": [
        "#try decision tree\n",
        "import sklearn"
      ],
      "execution_count": 0,
      "outputs": []
    },
    {
      "metadata": {
        "id": "-jrNrhSe5Zw9",
        "colab_type": "code",
        "outputId": "ae73bb17-d976-4eb2-f023-178485ed20f0",
        "colab": {
          "base_uri": "https://localhost:8080/",
          "height": 496
        }
      },
      "cell_type": "code",
      "source": [
        "# Random forest\n",
        "from sklearn.ensemble import RandomForestClassifier\n",
        "\n",
        "testnums = [0, 1, 2]\n",
        "\n",
        "params = [\n",
        "    [100, 50],\n",
        "    [100, 30],\n",
        "    [100, 10]\n",
        "]\n",
        "\n",
        "for test in testnums:\n",
        "  random_forest = RandomForestClassifier(n_estimators=params[test][0], max_depth=params[test][1],\n",
        "                             random_state=7, oob_score=True)\n",
        "  random_forest.fit(X_train, np.ravel(y_train))\n",
        "\n",
        "  print(\"Accuracy:\")\n",
        "  print(random_forest.score(X_test, y_test))\n",
        "\n",
        "  print(\"Importances:\")\n",
        "  print(sorted(zip(random_forest.feature_importances_, X_test.columns), reverse=True))\n",
        "  \n",
        "  print(\"RMSE\")\n",
        "  print(random_forest.oob_score_)\n",
        "  \n",
        "  print(\"Confusion Matrix\")\n",
        "  print(confusion_matrix(y_test, random_forest.predict(X_test)))"
      ],
      "execution_count": 0,
      "outputs": [
        {
          "output_type": "stream",
          "text": [
            "Accuracy:\n",
            "0.9272363150867824\n",
            "Importances:\n",
            "[(0.1170600626784643, 'O1'), (0.10814145128259871, 'P7'), (0.092443209502369, 'F7'), (0.08030782832310407, 'F8'), (0.07898314309419506, 'AF4'), (0.0746627697252027, 'AF3'), (0.06261460493107414, 'FC6'), (0.060380708496466075, 'FC5'), (0.05949791434597761, 'F4'), (0.057594617217353976, 'T8'), (0.056690371715982193, 'O2'), (0.05446009869773727, 'T7'), (0.05226001609283651, 'F3'), (0.04490320389663826, 'P8'), (0.0, 'Intercept')]\n",
            "RMSE\n",
            "0.9278296988577363\n",
            "Confusion Matrix\n",
            "[[768  40]\n",
            " [ 69 621]]\n",
            "Accuracy:\n",
            "0.9272363150867824\n",
            "Importances:\n",
            "[(0.11673063719434121, 'O1'), (0.10781292629444725, 'P7'), (0.092953829359334, 'F7'), (0.0802274525097564, 'F8'), (0.0792641522153035, 'AF4'), (0.07515241723103117, 'AF3'), (0.06294613083356568, 'FC6'), (0.06016117191215465, 'FC5'), (0.059546925735591956, 'F4'), (0.05720809330741596, 'T8'), (0.0563738970599088, 'O2'), (0.05456805173068826, 'T7'), (0.052004329076564354, 'F3'), (0.04504998553989672, 'P8'), (0.0, 'Intercept')]\n",
            "RMSE\n",
            "0.9269396232013054\n",
            "Confusion Matrix\n",
            "[[769  39]\n",
            " [ 70 620]]\n",
            "Accuracy:\n",
            "0.8591455273698264\n",
            "Importances:\n",
            "[(0.14566305559505768, 'O1'), (0.14329663531039918, 'P7'), (0.09803505757888481, 'F7'), (0.0848738238146095, 'F8'), (0.08343052857377943, 'AF4'), (0.07993446177702897, 'AF3'), (0.05482469148848093, 'F4'), (0.05284591390657365, 'FC5'), (0.047886210302752794, 'T8'), (0.04715679487269468, 'FC6'), (0.04428740720127403, 'T7'), (0.04316042768052629, 'O2'), (0.04109732830547313, 'F3'), (0.033507663592464966, 'P8'), (0.0, 'Intercept')]\n",
            "RMSE\n",
            "0.8587746625129803\n",
            "Confusion Matrix\n",
            "[[745  63]\n",
            " [148 542]]\n"
          ],
          "name": "stdout"
        }
      ]
    },
    {
      "metadata": {
        "id": "q4oLACnJ_eXw",
        "colab_type": "code",
        "outputId": "a75dc60a-da43-477a-bfb4-126d71128968",
        "colab": {
          "base_uri": "https://localhost:8080/",
          "height": 2638
        }
      },
      "cell_type": "code",
      "source": [
        "from sklearn.model_selection import GridSearchCV\n",
        "\n",
        "rf = RandomForestClassifier()\n",
        "param = {'n_estimators': [100, 150, 250],\n",
        "        'max_depth': [10, 30, 50]}\n",
        "\n",
        "gs = GridSearchCV(rf, param, cv=5, n_jobs=-1)\n",
        "gs_fit = gs.fit(X_train, np.ravel(y_train))\n",
        "pd.DataFrame(gs_fit.cv_results_).sort_values('mean_test_score', ascending=False)"
      ],
      "execution_count": 0,
      "outputs": [
        {
          "output_type": "stream",
          "text": [
            "/usr/local/lib/python3.6/dist-packages/sklearn/model_selection/_validation.py:458: DataConversionWarning: A column-vector y was passed when a 1d array was expected. Please change the shape of y to (n_samples,), for example using ravel().\n",
            "  estimator.fit(X_train, y_train, **fit_params)\n",
            "/usr/local/lib/python3.6/dist-packages/sklearn/model_selection/_validation.py:458: DataConversionWarning: A column-vector y was passed when a 1d array was expected. Please change the shape of y to (n_samples,), for example using ravel().\n",
            "  estimator.fit(X_train, y_train, **fit_params)\n",
            "/usr/local/lib/python3.6/dist-packages/sklearn/model_selection/_validation.py:458: DataConversionWarning: A column-vector y was passed when a 1d array was expected. Please change the shape of y to (n_samples,), for example using ravel().\n",
            "  estimator.fit(X_train, y_train, **fit_params)\n",
            "/usr/local/lib/python3.6/dist-packages/sklearn/model_selection/_validation.py:458: DataConversionWarning: A column-vector y was passed when a 1d array was expected. Please change the shape of y to (n_samples,), for example using ravel().\n",
            "  estimator.fit(X_train, y_train, **fit_params)\n",
            "/usr/local/lib/python3.6/dist-packages/sklearn/model_selection/_validation.py:458: DataConversionWarning: A column-vector y was passed when a 1d array was expected. Please change the shape of y to (n_samples,), for example using ravel().\n",
            "  estimator.fit(X_train, y_train, **fit_params)\n",
            "/usr/local/lib/python3.6/dist-packages/sklearn/model_selection/_validation.py:458: DataConversionWarning: A column-vector y was passed when a 1d array was expected. Please change the shape of y to (n_samples,), for example using ravel().\n",
            "  estimator.fit(X_train, y_train, **fit_params)\n",
            "/usr/local/lib/python3.6/dist-packages/sklearn/model_selection/_validation.py:458: DataConversionWarning: A column-vector y was passed when a 1d array was expected. Please change the shape of y to (n_samples,), for example using ravel().\n",
            "  estimator.fit(X_train, y_train, **fit_params)\n",
            "/usr/local/lib/python3.6/dist-packages/sklearn/model_selection/_validation.py:458: DataConversionWarning: A column-vector y was passed when a 1d array was expected. Please change the shape of y to (n_samples,), for example using ravel().\n",
            "  estimator.fit(X_train, y_train, **fit_params)\n",
            "/usr/local/lib/python3.6/dist-packages/sklearn/model_selection/_validation.py:458: DataConversionWarning: A column-vector y was passed when a 1d array was expected. Please change the shape of y to (n_samples,), for example using ravel().\n",
            "  estimator.fit(X_train, y_train, **fit_params)\n",
            "/usr/local/lib/python3.6/dist-packages/sklearn/model_selection/_validation.py:458: DataConversionWarning: A column-vector y was passed when a 1d array was expected. Please change the shape of y to (n_samples,), for example using ravel().\n",
            "  estimator.fit(X_train, y_train, **fit_params)\n",
            "/usr/local/lib/python3.6/dist-packages/sklearn/model_selection/_validation.py:458: DataConversionWarning: A column-vector y was passed when a 1d array was expected. Please change the shape of y to (n_samples,), for example using ravel().\n",
            "  estimator.fit(X_train, y_train, **fit_params)\n",
            "/usr/local/lib/python3.6/dist-packages/sklearn/model_selection/_validation.py:458: DataConversionWarning: A column-vector y was passed when a 1d array was expected. Please change the shape of y to (n_samples,), for example using ravel().\n",
            "  estimator.fit(X_train, y_train, **fit_params)\n",
            "/usr/local/lib/python3.6/dist-packages/sklearn/model_selection/_validation.py:458: DataConversionWarning: A column-vector y was passed when a 1d array was expected. Please change the shape of y to (n_samples,), for example using ravel().\n",
            "  estimator.fit(X_train, y_train, **fit_params)\n",
            "/usr/local/lib/python3.6/dist-packages/sklearn/model_selection/_validation.py:458: DataConversionWarning: A column-vector y was passed when a 1d array was expected. Please change the shape of y to (n_samples,), for example using ravel().\n",
            "  estimator.fit(X_train, y_train, **fit_params)\n",
            "/usr/local/lib/python3.6/dist-packages/sklearn/model_selection/_validation.py:458: DataConversionWarning: A column-vector y was passed when a 1d array was expected. Please change the shape of y to (n_samples,), for example using ravel().\n",
            "  estimator.fit(X_train, y_train, **fit_params)\n",
            "/usr/local/lib/python3.6/dist-packages/sklearn/model_selection/_validation.py:458: DataConversionWarning: A column-vector y was passed when a 1d array was expected. Please change the shape of y to (n_samples,), for example using ravel().\n",
            "  estimator.fit(X_train, y_train, **fit_params)\n",
            "/usr/local/lib/python3.6/dist-packages/sklearn/model_selection/_validation.py:458: DataConversionWarning: A column-vector y was passed when a 1d array was expected. Please change the shape of y to (n_samples,), for example using ravel().\n",
            "  estimator.fit(X_train, y_train, **fit_params)\n",
            "/usr/local/lib/python3.6/dist-packages/sklearn/model_selection/_validation.py:458: DataConversionWarning: A column-vector y was passed when a 1d array was expected. Please change the shape of y to (n_samples,), for example using ravel().\n",
            "  estimator.fit(X_train, y_train, **fit_params)\n",
            "/usr/local/lib/python3.6/dist-packages/sklearn/model_selection/_validation.py:458: DataConversionWarning: A column-vector y was passed when a 1d array was expected. Please change the shape of y to (n_samples,), for example using ravel().\n",
            "  estimator.fit(X_train, y_train, **fit_params)\n",
            "/usr/local/lib/python3.6/dist-packages/sklearn/model_selection/_validation.py:458: DataConversionWarning: A column-vector y was passed when a 1d array was expected. Please change the shape of y to (n_samples,), for example using ravel().\n",
            "  estimator.fit(X_train, y_train, **fit_params)\n",
            "/usr/local/lib/python3.6/dist-packages/sklearn/model_selection/_validation.py:458: DataConversionWarning: A column-vector y was passed when a 1d array was expected. Please change the shape of y to (n_samples,), for example using ravel().\n",
            "  estimator.fit(X_train, y_train, **fit_params)\n",
            "/usr/local/lib/python3.6/dist-packages/sklearn/model_selection/_validation.py:458: DataConversionWarning: A column-vector y was passed when a 1d array was expected. Please change the shape of y to (n_samples,), for example using ravel().\n",
            "  estimator.fit(X_train, y_train, **fit_params)\n",
            "/usr/local/lib/python3.6/dist-packages/sklearn/model_selection/_validation.py:458: DataConversionWarning: A column-vector y was passed when a 1d array was expected. Please change the shape of y to (n_samples,), for example using ravel().\n",
            "  estimator.fit(X_train, y_train, **fit_params)\n",
            "/usr/local/lib/python3.6/dist-packages/sklearn/model_selection/_validation.py:458: DataConversionWarning: A column-vector y was passed when a 1d array was expected. Please change the shape of y to (n_samples,), for example using ravel().\n",
            "  estimator.fit(X_train, y_train, **fit_params)\n",
            "/usr/local/lib/python3.6/dist-packages/sklearn/model_selection/_validation.py:458: DataConversionWarning: A column-vector y was passed when a 1d array was expected. Please change the shape of y to (n_samples,), for example using ravel().\n",
            "  estimator.fit(X_train, y_train, **fit_params)\n",
            "/usr/local/lib/python3.6/dist-packages/sklearn/model_selection/_validation.py:458: DataConversionWarning: A column-vector y was passed when a 1d array was expected. Please change the shape of y to (n_samples,), for example using ravel().\n",
            "  estimator.fit(X_train, y_train, **fit_params)\n",
            "/usr/local/lib/python3.6/dist-packages/sklearn/model_selection/_validation.py:458: DataConversionWarning: A column-vector y was passed when a 1d array was expected. Please change the shape of y to (n_samples,), for example using ravel().\n",
            "  estimator.fit(X_train, y_train, **fit_params)\n",
            "/usr/local/lib/python3.6/dist-packages/sklearn/model_selection/_validation.py:458: DataConversionWarning: A column-vector y was passed when a 1d array was expected. Please change the shape of y to (n_samples,), for example using ravel().\n",
            "  estimator.fit(X_train, y_train, **fit_params)\n",
            "/usr/local/lib/python3.6/dist-packages/sklearn/model_selection/_validation.py:458: DataConversionWarning: A column-vector y was passed when a 1d array was expected. Please change the shape of y to (n_samples,), for example using ravel().\n",
            "  estimator.fit(X_train, y_train, **fit_params)\n",
            "/usr/local/lib/python3.6/dist-packages/sklearn/model_selection/_validation.py:458: DataConversionWarning: A column-vector y was passed when a 1d array was expected. Please change the shape of y to (n_samples,), for example using ravel().\n",
            "  estimator.fit(X_train, y_train, **fit_params)\n",
            "/usr/local/lib/python3.6/dist-packages/sklearn/model_selection/_validation.py:458: DataConversionWarning: A column-vector y was passed when a 1d array was expected. Please change the shape of y to (n_samples,), for example using ravel().\n",
            "  estimator.fit(X_train, y_train, **fit_params)\n",
            "/usr/local/lib/python3.6/dist-packages/sklearn/model_selection/_validation.py:458: DataConversionWarning: A column-vector y was passed when a 1d array was expected. Please change the shape of y to (n_samples,), for example using ravel().\n",
            "  estimator.fit(X_train, y_train, **fit_params)\n",
            "/usr/local/lib/python3.6/dist-packages/sklearn/model_selection/_validation.py:458: DataConversionWarning: A column-vector y was passed when a 1d array was expected. Please change the shape of y to (n_samples,), for example using ravel().\n",
            "  estimator.fit(X_train, y_train, **fit_params)\n",
            "/usr/local/lib/python3.6/dist-packages/sklearn/model_selection/_validation.py:458: DataConversionWarning: A column-vector y was passed when a 1d array was expected. Please change the shape of y to (n_samples,), for example using ravel().\n",
            "  estimator.fit(X_train, y_train, **fit_params)\n",
            "/usr/local/lib/python3.6/dist-packages/sklearn/model_selection/_validation.py:458: DataConversionWarning: A column-vector y was passed when a 1d array was expected. Please change the shape of y to (n_samples,), for example using ravel().\n",
            "  estimator.fit(X_train, y_train, **fit_params)\n",
            "/usr/local/lib/python3.6/dist-packages/sklearn/model_selection/_validation.py:458: DataConversionWarning: A column-vector y was passed when a 1d array was expected. Please change the shape of y to (n_samples,), for example using ravel().\n",
            "  estimator.fit(X_train, y_train, **fit_params)\n",
            "/usr/local/lib/python3.6/dist-packages/sklearn/model_selection/_validation.py:458: DataConversionWarning: A column-vector y was passed when a 1d array was expected. Please change the shape of y to (n_samples,), for example using ravel().\n",
            "  estimator.fit(X_train, y_train, **fit_params)\n",
            "/usr/local/lib/python3.6/dist-packages/sklearn/model_selection/_validation.py:458: DataConversionWarning: A column-vector y was passed when a 1d array was expected. Please change the shape of y to (n_samples,), for example using ravel().\n",
            "  estimator.fit(X_train, y_train, **fit_params)\n",
            "/usr/local/lib/python3.6/dist-packages/sklearn/model_selection/_validation.py:458: DataConversionWarning: A column-vector y was passed when a 1d array was expected. Please change the shape of y to (n_samples,), for example using ravel().\n",
            "  estimator.fit(X_train, y_train, **fit_params)\n",
            "/usr/local/lib/python3.6/dist-packages/sklearn/model_selection/_validation.py:458: DataConversionWarning: A column-vector y was passed when a 1d array was expected. Please change the shape of y to (n_samples,), for example using ravel().\n",
            "  estimator.fit(X_train, y_train, **fit_params)\n",
            "/usr/local/lib/python3.6/dist-packages/sklearn/model_selection/_validation.py:458: DataConversionWarning: A column-vector y was passed when a 1d array was expected. Please change the shape of y to (n_samples,), for example using ravel().\n",
            "  estimator.fit(X_train, y_train, **fit_params)\n",
            "/usr/local/lib/python3.6/dist-packages/sklearn/model_selection/_validation.py:458: DataConversionWarning: A column-vector y was passed when a 1d array was expected. Please change the shape of y to (n_samples,), for example using ravel().\n",
            "  estimator.fit(X_train, y_train, **fit_params)\n",
            "/usr/local/lib/python3.6/dist-packages/sklearn/model_selection/_validation.py:458: DataConversionWarning: A column-vector y was passed when a 1d array was expected. Please change the shape of y to (n_samples,), for example using ravel().\n",
            "  estimator.fit(X_train, y_train, **fit_params)\n",
            "/usr/local/lib/python3.6/dist-packages/sklearn/model_selection/_validation.py:458: DataConversionWarning: A column-vector y was passed when a 1d array was expected. Please change the shape of y to (n_samples,), for example using ravel().\n",
            "  estimator.fit(X_train, y_train, **fit_params)\n",
            "/usr/local/lib/python3.6/dist-packages/sklearn/model_selection/_validation.py:458: DataConversionWarning: A column-vector y was passed when a 1d array was expected. Please change the shape of y to (n_samples,), for example using ravel().\n",
            "  estimator.fit(X_train, y_train, **fit_params)\n",
            "/usr/local/lib/python3.6/dist-packages/sklearn/model_selection/_search.py:740: DataConversionWarning: A column-vector y was passed when a 1d array was expected. Please change the shape of y to (n_samples,), for example using ravel().\n",
            "  self.best_estimator_.fit(X, y, **fit_params)\n",
            "/usr/local/lib/python3.6/dist-packages/sklearn/utils/deprecation.py:122: FutureWarning: You are accessing a training score ('mean_train_score'), which will not be available by default any more in 0.21. If you need training scores, please set return_train_score=True\n",
            "  warnings.warn(*warn_args, **warn_kwargs)\n",
            "/usr/local/lib/python3.6/dist-packages/sklearn/utils/deprecation.py:122: FutureWarning: You are accessing a training score ('split0_train_score'), which will not be available by default any more in 0.21. If you need training scores, please set return_train_score=True\n",
            "  warnings.warn(*warn_args, **warn_kwargs)\n",
            "/usr/local/lib/python3.6/dist-packages/sklearn/utils/deprecation.py:122: FutureWarning: You are accessing a training score ('split1_train_score'), which will not be available by default any more in 0.21. If you need training scores, please set return_train_score=True\n",
            "  warnings.warn(*warn_args, **warn_kwargs)\n",
            "/usr/local/lib/python3.6/dist-packages/sklearn/utils/deprecation.py:122: FutureWarning: You are accessing a training score ('split2_train_score'), which will not be available by default any more in 0.21. If you need training scores, please set return_train_score=True\n",
            "  warnings.warn(*warn_args, **warn_kwargs)\n",
            "/usr/local/lib/python3.6/dist-packages/sklearn/utils/deprecation.py:122: FutureWarning: You are accessing a training score ('split3_train_score'), which will not be available by default any more in 0.21. If you need training scores, please set return_train_score=True\n",
            "  warnings.warn(*warn_args, **warn_kwargs)\n",
            "/usr/local/lib/python3.6/dist-packages/sklearn/utils/deprecation.py:122: FutureWarning: You are accessing a training score ('split4_train_score'), which will not be available by default any more in 0.21. If you need training scores, please set return_train_score=True\n",
            "  warnings.warn(*warn_args, **warn_kwargs)\n",
            "/usr/local/lib/python3.6/dist-packages/sklearn/utils/deprecation.py:122: FutureWarning: You are accessing a training score ('std_train_score'), which will not be available by default any more in 0.21. If you need training scores, please set return_train_score=True\n",
            "  warnings.warn(*warn_args, **warn_kwargs)\n"
          ],
          "name": "stderr"
        },
        {
          "output_type": "execute_result",
          "data": {
            "text/html": [
              "<div>\n",
              "<style scoped>\n",
              "    .dataframe tbody tr th:only-of-type {\n",
              "        vertical-align: middle;\n",
              "    }\n",
              "\n",
              "    .dataframe tbody tr th {\n",
              "        vertical-align: top;\n",
              "    }\n",
              "\n",
              "    .dataframe thead th {\n",
              "        text-align: right;\n",
              "    }\n",
              "</style>\n",
              "<table border=\"1\" class=\"dataframe\">\n",
              "  <thead>\n",
              "    <tr style=\"text-align: right;\">\n",
              "      <th></th>\n",
              "      <th>mean_fit_time</th>\n",
              "      <th>mean_score_time</th>\n",
              "      <th>mean_test_score</th>\n",
              "      <th>mean_train_score</th>\n",
              "      <th>param_max_depth</th>\n",
              "      <th>param_n_estimators</th>\n",
              "      <th>params</th>\n",
              "      <th>rank_test_score</th>\n",
              "      <th>split0_test_score</th>\n",
              "      <th>split0_train_score</th>\n",
              "      <th>...</th>\n",
              "      <th>split2_test_score</th>\n",
              "      <th>split2_train_score</th>\n",
              "      <th>split3_test_score</th>\n",
              "      <th>split3_train_score</th>\n",
              "      <th>split4_test_score</th>\n",
              "      <th>split4_train_score</th>\n",
              "      <th>std_fit_time</th>\n",
              "      <th>std_score_time</th>\n",
              "      <th>std_test_score</th>\n",
              "      <th>std_train_score</th>\n",
              "    </tr>\n",
              "  </thead>\n",
              "  <tbody>\n",
              "    <tr>\n",
              "      <th>5</th>\n",
              "      <td>8.123521</td>\n",
              "      <td>0.181109</td>\n",
              "      <td>0.928052</td>\n",
              "      <td>1.000000</td>\n",
              "      <td>30</td>\n",
              "      <td>250</td>\n",
              "      <td>{'max_depth': 30, 'n_estimators': 250}</td>\n",
              "      <td>1</td>\n",
              "      <td>0.922877</td>\n",
              "      <td>1.000000</td>\n",
              "      <td>...</td>\n",
              "      <td>0.932147</td>\n",
              "      <td>1.000000</td>\n",
              "      <td>0.926558</td>\n",
              "      <td>1.000000</td>\n",
              "      <td>0.922820</td>\n",
              "      <td>1.000000</td>\n",
              "      <td>0.087913</td>\n",
              "      <td>0.005789</td>\n",
              "      <td>0.005178</td>\n",
              "      <td>0.000000</td>\n",
              "    </tr>\n",
              "    <tr>\n",
              "      <th>4</th>\n",
              "      <td>4.816458</td>\n",
              "      <td>0.109718</td>\n",
              "      <td>0.927459</td>\n",
              "      <td>1.000000</td>\n",
              "      <td>30</td>\n",
              "      <td>150</td>\n",
              "      <td>{'max_depth': 30, 'n_estimators': 150}</td>\n",
              "      <td>2</td>\n",
              "      <td>0.923248</td>\n",
              "      <td>1.000000</td>\n",
              "      <td>...</td>\n",
              "      <td>0.931776</td>\n",
              "      <td>1.000000</td>\n",
              "      <td>0.926929</td>\n",
              "      <td>1.000000</td>\n",
              "      <td>0.921336</td>\n",
              "      <td>1.000000</td>\n",
              "      <td>0.032409</td>\n",
              "      <td>0.004765</td>\n",
              "      <td>0.004836</td>\n",
              "      <td>0.000000</td>\n",
              "    </tr>\n",
              "    <tr>\n",
              "      <th>8</th>\n",
              "      <td>7.480634</td>\n",
              "      <td>0.165321</td>\n",
              "      <td>0.927385</td>\n",
              "      <td>1.000000</td>\n",
              "      <td>50</td>\n",
              "      <td>250</td>\n",
              "      <td>{'max_depth': 50, 'n_estimators': 250}</td>\n",
              "      <td>3</td>\n",
              "      <td>0.921394</td>\n",
              "      <td>1.000000</td>\n",
              "      <td>...</td>\n",
              "      <td>0.928439</td>\n",
              "      <td>1.000000</td>\n",
              "      <td>0.928412</td>\n",
              "      <td>1.000000</td>\n",
              "      <td>0.924304</td>\n",
              "      <td>1.000000</td>\n",
              "      <td>0.426685</td>\n",
              "      <td>0.014805</td>\n",
              "      <td>0.004390</td>\n",
              "      <td>0.000000</td>\n",
              "    </tr>\n",
              "    <tr>\n",
              "      <th>7</th>\n",
              "      <td>4.686501</td>\n",
              "      <td>0.106219</td>\n",
              "      <td>0.926420</td>\n",
              "      <td>1.000000</td>\n",
              "      <td>50</td>\n",
              "      <td>150</td>\n",
              "      <td>{'max_depth': 50, 'n_estimators': 150}</td>\n",
              "      <td>4</td>\n",
              "      <td>0.919540</td>\n",
              "      <td>1.000000</td>\n",
              "      <td>...</td>\n",
              "      <td>0.929551</td>\n",
              "      <td>1.000000</td>\n",
              "      <td>0.922107</td>\n",
              "      <td>1.000000</td>\n",
              "      <td>0.925046</td>\n",
              "      <td>1.000000</td>\n",
              "      <td>0.073778</td>\n",
              "      <td>0.001576</td>\n",
              "      <td>0.005774</td>\n",
              "      <td>0.000000</td>\n",
              "    </tr>\n",
              "    <tr>\n",
              "      <th>6</th>\n",
              "      <td>3.044418</td>\n",
              "      <td>0.069139</td>\n",
              "      <td>0.926198</td>\n",
              "      <td>1.000000</td>\n",
              "      <td>50</td>\n",
              "      <td>100</td>\n",
              "      <td>{'max_depth': 50, 'n_estimators': 100}</td>\n",
              "      <td>5</td>\n",
              "      <td>0.920653</td>\n",
              "      <td>1.000000</td>\n",
              "      <td>...</td>\n",
              "      <td>0.928439</td>\n",
              "      <td>1.000000</td>\n",
              "      <td>0.922849</td>\n",
              "      <td>1.000000</td>\n",
              "      <td>0.921707</td>\n",
              "      <td>1.000000</td>\n",
              "      <td>0.040434</td>\n",
              "      <td>0.001264</td>\n",
              "      <td>0.006185</td>\n",
              "      <td>0.000000</td>\n",
              "    </tr>\n",
              "    <tr>\n",
              "      <th>3</th>\n",
              "      <td>3.315177</td>\n",
              "      <td>0.073571</td>\n",
              "      <td>0.925901</td>\n",
              "      <td>1.000000</td>\n",
              "      <td>30</td>\n",
              "      <td>100</td>\n",
              "      <td>{'max_depth': 30, 'n_estimators': 100}</td>\n",
              "      <td>6</td>\n",
              "      <td>0.922877</td>\n",
              "      <td>1.000000</td>\n",
              "      <td>...</td>\n",
              "      <td>0.929922</td>\n",
              "      <td>1.000000</td>\n",
              "      <td>0.922107</td>\n",
              "      <td>1.000000</td>\n",
              "      <td>0.917625</td>\n",
              "      <td>1.000000</td>\n",
              "      <td>0.028792</td>\n",
              "      <td>0.000369</td>\n",
              "      <td>0.006792</td>\n",
              "      <td>0.000000</td>\n",
              "    </tr>\n",
              "    <tr>\n",
              "      <th>2</th>\n",
              "      <td>5.780293</td>\n",
              "      <td>0.135246</td>\n",
              "      <td>0.860036</td>\n",
              "      <td>0.914200</td>\n",
              "      <td>10</td>\n",
              "      <td>250</td>\n",
              "      <td>{'max_depth': 10, 'n_estimators': 250}</td>\n",
              "      <td>7</td>\n",
              "      <td>0.852799</td>\n",
              "      <td>0.914511</td>\n",
              "      <td>...</td>\n",
              "      <td>0.856878</td>\n",
              "      <td>0.915809</td>\n",
              "      <td>0.862760</td>\n",
              "      <td>0.914982</td>\n",
              "      <td>0.863822</td>\n",
              "      <td>0.911931</td>\n",
              "      <td>0.031094</td>\n",
              "      <td>0.004681</td>\n",
              "      <td>0.004454</td>\n",
              "      <td>0.001314</td>\n",
              "    </tr>\n",
              "    <tr>\n",
              "      <th>1</th>\n",
              "      <td>3.456222</td>\n",
              "      <td>0.080579</td>\n",
              "      <td>0.859665</td>\n",
              "      <td>0.914293</td>\n",
              "      <td>10</td>\n",
              "      <td>150</td>\n",
              "      <td>{'max_depth': 10, 'n_estimators': 150}</td>\n",
              "      <td>8</td>\n",
              "      <td>0.853170</td>\n",
              "      <td>0.912007</td>\n",
              "      <td>...</td>\n",
              "      <td>0.856136</td>\n",
              "      <td>0.915067</td>\n",
              "      <td>0.862018</td>\n",
              "      <td>0.916002</td>\n",
              "      <td>0.864193</td>\n",
              "      <td>0.915361</td>\n",
              "      <td>0.029388</td>\n",
              "      <td>0.004739</td>\n",
              "      <td>0.004256</td>\n",
              "      <td>0.001516</td>\n",
              "    </tr>\n",
              "    <tr>\n",
              "      <th>0</th>\n",
              "      <td>2.290404</td>\n",
              "      <td>0.054912</td>\n",
              "      <td>0.859591</td>\n",
              "      <td>0.912253</td>\n",
              "      <td>10</td>\n",
              "      <td>100</td>\n",
              "      <td>{'max_depth': 10, 'n_estimators': 100}</td>\n",
              "      <td>9</td>\n",
              "      <td>0.851687</td>\n",
              "      <td>0.911451</td>\n",
              "      <td>...</td>\n",
              "      <td>0.857990</td>\n",
              "      <td>0.913398</td>\n",
              "      <td>0.863131</td>\n",
              "      <td>0.913221</td>\n",
              "      <td>0.864193</td>\n",
              "      <td>0.913136</td>\n",
              "      <td>0.011324</td>\n",
              "      <td>0.001282</td>\n",
              "      <td>0.004486</td>\n",
              "      <td>0.001302</td>\n",
              "    </tr>\n",
              "  </tbody>\n",
              "</table>\n",
              "<p>9 rows × 22 columns</p>\n",
              "</div>"
            ],
            "text/plain": [
              "   mean_fit_time  mean_score_time  mean_test_score  mean_train_score  \\\n",
              "5       8.123521         0.181109         0.928052          1.000000   \n",
              "4       4.816458         0.109718         0.927459          1.000000   \n",
              "8       7.480634         0.165321         0.927385          1.000000   \n",
              "7       4.686501         0.106219         0.926420          1.000000   \n",
              "6       3.044418         0.069139         0.926198          1.000000   \n",
              "3       3.315177         0.073571         0.925901          1.000000   \n",
              "2       5.780293         0.135246         0.860036          0.914200   \n",
              "1       3.456222         0.080579         0.859665          0.914293   \n",
              "0       2.290404         0.054912         0.859591          0.912253   \n",
              "\n",
              "  param_max_depth param_n_estimators                                  params  \\\n",
              "5              30                250  {'max_depth': 30, 'n_estimators': 250}   \n",
              "4              30                150  {'max_depth': 30, 'n_estimators': 150}   \n",
              "8              50                250  {'max_depth': 50, 'n_estimators': 250}   \n",
              "7              50                150  {'max_depth': 50, 'n_estimators': 150}   \n",
              "6              50                100  {'max_depth': 50, 'n_estimators': 100}   \n",
              "3              30                100  {'max_depth': 30, 'n_estimators': 100}   \n",
              "2              10                250  {'max_depth': 10, 'n_estimators': 250}   \n",
              "1              10                150  {'max_depth': 10, 'n_estimators': 150}   \n",
              "0              10                100  {'max_depth': 10, 'n_estimators': 100}   \n",
              "\n",
              "   rank_test_score  split0_test_score  split0_train_score       ...         \\\n",
              "5                1           0.922877            1.000000       ...          \n",
              "4                2           0.923248            1.000000       ...          \n",
              "8                3           0.921394            1.000000       ...          \n",
              "7                4           0.919540            1.000000       ...          \n",
              "6                5           0.920653            1.000000       ...          \n",
              "3                6           0.922877            1.000000       ...          \n",
              "2                7           0.852799            0.914511       ...          \n",
              "1                8           0.853170            0.912007       ...          \n",
              "0                9           0.851687            0.911451       ...          \n",
              "\n",
              "   split2_test_score  split2_train_score  split3_test_score  \\\n",
              "5           0.932147            1.000000           0.926558   \n",
              "4           0.931776            1.000000           0.926929   \n",
              "8           0.928439            1.000000           0.928412   \n",
              "7           0.929551            1.000000           0.922107   \n",
              "6           0.928439            1.000000           0.922849   \n",
              "3           0.929922            1.000000           0.922107   \n",
              "2           0.856878            0.915809           0.862760   \n",
              "1           0.856136            0.915067           0.862018   \n",
              "0           0.857990            0.913398           0.863131   \n",
              "\n",
              "   split3_train_score  split4_test_score  split4_train_score  std_fit_time  \\\n",
              "5            1.000000           0.922820            1.000000      0.087913   \n",
              "4            1.000000           0.921336            1.000000      0.032409   \n",
              "8            1.000000           0.924304            1.000000      0.426685   \n",
              "7            1.000000           0.925046            1.000000      0.073778   \n",
              "6            1.000000           0.921707            1.000000      0.040434   \n",
              "3            1.000000           0.917625            1.000000      0.028792   \n",
              "2            0.914982           0.863822            0.911931      0.031094   \n",
              "1            0.916002           0.864193            0.915361      0.029388   \n",
              "0            0.913221           0.864193            0.913136      0.011324   \n",
              "\n",
              "   std_score_time  std_test_score  std_train_score  \n",
              "5        0.005789        0.005178         0.000000  \n",
              "4        0.004765        0.004836         0.000000  \n",
              "8        0.014805        0.004390         0.000000  \n",
              "7        0.001576        0.005774         0.000000  \n",
              "6        0.001264        0.006185         0.000000  \n",
              "3        0.000369        0.006792         0.000000  \n",
              "2        0.004681        0.004454         0.001314  \n",
              "1        0.004739        0.004256         0.001516  \n",
              "0        0.001282        0.004486         0.001302  \n",
              "\n",
              "[9 rows x 22 columns]"
            ]
          },
          "metadata": {
            "tags": []
          },
          "execution_count": 17
        }
      ]
    },
    {
      "metadata": {
        "id": "NHzjR1LU7qs9",
        "colab_type": "code",
        "outputId": "c5aedf84-6a5d-452f-b3b1-908d3fa44bd7",
        "colab": {
          "base_uri": "https://localhost:8080/",
          "height": 173
        }
      },
      "cell_type": "code",
      "source": [
        "# XGBoost\n",
        "\n",
        "from xgboost import XGBClassifier\n",
        "\n",
        "xgb = XGBClassifier()\n",
        "xgb.fit(X_train, np.ravel(y_train))\n",
        "\n",
        "print(xgb.score(X_test, y_test))\n",
        "\n",
        "print(sorted(zip(xgb.feature_importances_, X_test.columns), reverse=True))\n",
        "\n",
        "print(confusion_matrix(y_test, xgb.predict(X_test)))"
      ],
      "execution_count": 0,
      "outputs": [
        {
          "output_type": "stream",
          "text": [
            "0.7997329773030708\n",
            "[(0.15499255, 'P7'), (0.13710879, 'F7'), (0.13561848, 'O1'), (0.10581222, 'F8'), (0.08345753, 'AF4'), (0.07600596, 'AF3'), (0.05514158, 'T7'), (0.047690015, 'O2'), (0.0461997, 'FC6'), (0.04023845, 'F4'), (0.038748138, 'T8'), (0.037257824, 'FC5'), (0.02980626, 'F3'), (0.011922504, 'P8'), (0.0, 'Intercept')]\n",
            "[[696 112]\n",
            " [188 502]]\n"
          ],
          "name": "stdout"
        },
        {
          "output_type": "stream",
          "text": [
            "/usr/local/lib/python3.6/dist-packages/sklearn/preprocessing/label.py:151: DeprecationWarning: The truth value of an empty array is ambiguous. Returning False, but in future this will result in an error. Use `array.size > 0` to check that an array is not empty.\n",
            "  if diff:\n",
            "/usr/local/lib/python3.6/dist-packages/sklearn/preprocessing/label.py:151: DeprecationWarning: The truth value of an empty array is ambiguous. Returning False, but in future this will result in an error. Use `array.size > 0` to check that an array is not empty.\n",
            "  if diff:\n"
          ],
          "name": "stderr"
        }
      ]
    },
    {
      "metadata": {
        "id": "3cFJobQjJGaD",
        "colab_type": "code",
        "outputId": "ca9f2613-16c7-493f-f4da-2b893e640ebf",
        "colab": {
          "base_uri": "https://localhost:8080/",
          "height": 4134
        }
      },
      "cell_type": "code",
      "source": [
        "param = {'n_estimators': [100, 150, 250],\n",
        "        'max_depth': [10, 30, 50]}\n",
        "\n",
        "gs = GridSearchCV(xgb, param, cv=5, n_jobs=-1)\n",
        "gs_fit = gs.fit(X_train, np.ravel(y_train))\n",
        "pd.DataFrame(gs_fit.cv_results_).sort_values('mean_test_score', ascending=False)"
      ],
      "execution_count": 0,
      "outputs": [
        {
          "output_type": "stream",
          "text": [
            "/usr/local/lib/python3.6/dist-packages/sklearn/preprocessing/label.py:151: DeprecationWarning: The truth value of an empty array is ambiguous. Returning False, but in future this will result in an error. Use `array.size > 0` to check that an array is not empty.\n",
            "  if diff:\n",
            "/usr/local/lib/python3.6/dist-packages/sklearn/preprocessing/label.py:151: DeprecationWarning: The truth value of an empty array is ambiguous. Returning False, but in future this will result in an error. Use `array.size > 0` to check that an array is not empty.\n",
            "  if diff:\n",
            "/usr/local/lib/python3.6/dist-packages/sklearn/preprocessing/label.py:151: DeprecationWarning: The truth value of an empty array is ambiguous. Returning False, but in future this will result in an error. Use `array.size > 0` to check that an array is not empty.\n",
            "  if diff:\n",
            "/usr/local/lib/python3.6/dist-packages/sklearn/preprocessing/label.py:151: DeprecationWarning: The truth value of an empty array is ambiguous. Returning False, but in future this will result in an error. Use `array.size > 0` to check that an array is not empty.\n",
            "  if diff:\n",
            "/usr/local/lib/python3.6/dist-packages/sklearn/preprocessing/label.py:151: DeprecationWarning: The truth value of an empty array is ambiguous. Returning False, but in future this will result in an error. Use `array.size > 0` to check that an array is not empty.\n",
            "  if diff:\n",
            "/usr/local/lib/python3.6/dist-packages/sklearn/preprocessing/label.py:151: DeprecationWarning: The truth value of an empty array is ambiguous. Returning False, but in future this will result in an error. Use `array.size > 0` to check that an array is not empty.\n",
            "  if diff:\n",
            "/usr/local/lib/python3.6/dist-packages/sklearn/preprocessing/label.py:151: DeprecationWarning: The truth value of an empty array is ambiguous. Returning False, but in future this will result in an error. Use `array.size > 0` to check that an array is not empty.\n",
            "  if diff:\n",
            "/usr/local/lib/python3.6/dist-packages/sklearn/preprocessing/label.py:151: DeprecationWarning: The truth value of an empty array is ambiguous. Returning False, but in future this will result in an error. Use `array.size > 0` to check that an array is not empty.\n",
            "  if diff:\n",
            "/usr/local/lib/python3.6/dist-packages/sklearn/preprocessing/label.py:151: DeprecationWarning: The truth value of an empty array is ambiguous. Returning False, but in future this will result in an error. Use `array.size > 0` to check that an array is not empty.\n",
            "  if diff:\n",
            "/usr/local/lib/python3.6/dist-packages/sklearn/preprocessing/label.py:151: DeprecationWarning: The truth value of an empty array is ambiguous. Returning False, but in future this will result in an error. Use `array.size > 0` to check that an array is not empty.\n",
            "  if diff:\n",
            "/usr/local/lib/python3.6/dist-packages/sklearn/preprocessing/label.py:151: DeprecationWarning: The truth value of an empty array is ambiguous. Returning False, but in future this will result in an error. Use `array.size > 0` to check that an array is not empty.\n",
            "  if diff:\n",
            "/usr/local/lib/python3.6/dist-packages/sklearn/preprocessing/label.py:151: DeprecationWarning: The truth value of an empty array is ambiguous. Returning False, but in future this will result in an error. Use `array.size > 0` to check that an array is not empty.\n",
            "  if diff:\n",
            "/usr/local/lib/python3.6/dist-packages/sklearn/preprocessing/label.py:151: DeprecationWarning: The truth value of an empty array is ambiguous. Returning False, but in future this will result in an error. Use `array.size > 0` to check that an array is not empty.\n",
            "  if diff:\n",
            "/usr/local/lib/python3.6/dist-packages/sklearn/preprocessing/label.py:151: DeprecationWarning: The truth value of an empty array is ambiguous. Returning False, but in future this will result in an error. Use `array.size > 0` to check that an array is not empty.\n",
            "  if diff:\n",
            "/usr/local/lib/python3.6/dist-packages/sklearn/preprocessing/label.py:151: DeprecationWarning: The truth value of an empty array is ambiguous. Returning False, but in future this will result in an error. Use `array.size > 0` to check that an array is not empty.\n",
            "  if diff:\n",
            "/usr/local/lib/python3.6/dist-packages/sklearn/preprocessing/label.py:151: DeprecationWarning: The truth value of an empty array is ambiguous. Returning False, but in future this will result in an error. Use `array.size > 0` to check that an array is not empty.\n",
            "  if diff:\n",
            "/usr/local/lib/python3.6/dist-packages/sklearn/preprocessing/label.py:151: DeprecationWarning: The truth value of an empty array is ambiguous. Returning False, but in future this will result in an error. Use `array.size > 0` to check that an array is not empty.\n",
            "  if diff:\n",
            "/usr/local/lib/python3.6/dist-packages/sklearn/preprocessing/label.py:151: DeprecationWarning: The truth value of an empty array is ambiguous. Returning False, but in future this will result in an error. Use `array.size > 0` to check that an array is not empty.\n",
            "  if diff:\n",
            "/usr/local/lib/python3.6/dist-packages/sklearn/preprocessing/label.py:151: DeprecationWarning: The truth value of an empty array is ambiguous. Returning False, but in future this will result in an error. Use `array.size > 0` to check that an array is not empty.\n",
            "  if diff:\n",
            "/usr/local/lib/python3.6/dist-packages/sklearn/preprocessing/label.py:151: DeprecationWarning: The truth value of an empty array is ambiguous. Returning False, but in future this will result in an error. Use `array.size > 0` to check that an array is not empty.\n",
            "  if diff:\n",
            "/usr/local/lib/python3.6/dist-packages/sklearn/preprocessing/label.py:151: DeprecationWarning: The truth value of an empty array is ambiguous. Returning False, but in future this will result in an error. Use `array.size > 0` to check that an array is not empty.\n",
            "  if diff:\n",
            "/usr/local/lib/python3.6/dist-packages/sklearn/preprocessing/label.py:151: DeprecationWarning: The truth value of an empty array is ambiguous. Returning False, but in future this will result in an error. Use `array.size > 0` to check that an array is not empty.\n",
            "  if diff:\n",
            "/usr/local/lib/python3.6/dist-packages/sklearn/preprocessing/label.py:151: DeprecationWarning: The truth value of an empty array is ambiguous. Returning False, but in future this will result in an error. Use `array.size > 0` to check that an array is not empty.\n",
            "  if diff:\n",
            "/usr/local/lib/python3.6/dist-packages/sklearn/preprocessing/label.py:151: DeprecationWarning: The truth value of an empty array is ambiguous. Returning False, but in future this will result in an error. Use `array.size > 0` to check that an array is not empty.\n",
            "  if diff:\n",
            "/usr/local/lib/python3.6/dist-packages/sklearn/preprocessing/label.py:151: DeprecationWarning: The truth value of an empty array is ambiguous. Returning False, but in future this will result in an error. Use `array.size > 0` to check that an array is not empty.\n",
            "  if diff:\n",
            "/usr/local/lib/python3.6/dist-packages/sklearn/preprocessing/label.py:151: DeprecationWarning: The truth value of an empty array is ambiguous. Returning False, but in future this will result in an error. Use `array.size > 0` to check that an array is not empty.\n",
            "  if diff:\n",
            "/usr/local/lib/python3.6/dist-packages/sklearn/preprocessing/label.py:151: DeprecationWarning: The truth value of an empty array is ambiguous. Returning False, but in future this will result in an error. Use `array.size > 0` to check that an array is not empty.\n",
            "  if diff:\n",
            "/usr/local/lib/python3.6/dist-packages/sklearn/preprocessing/label.py:151: DeprecationWarning: The truth value of an empty array is ambiguous. Returning False, but in future this will result in an error. Use `array.size > 0` to check that an array is not empty.\n",
            "  if diff:\n",
            "/usr/local/lib/python3.6/dist-packages/sklearn/preprocessing/label.py:151: DeprecationWarning: The truth value of an empty array is ambiguous. Returning False, but in future this will result in an error. Use `array.size > 0` to check that an array is not empty.\n",
            "  if diff:\n",
            "/usr/local/lib/python3.6/dist-packages/sklearn/preprocessing/label.py:151: DeprecationWarning: The truth value of an empty array is ambiguous. Returning False, but in future this will result in an error. Use `array.size > 0` to check that an array is not empty.\n",
            "  if diff:\n",
            "/usr/local/lib/python3.6/dist-packages/sklearn/preprocessing/label.py:151: DeprecationWarning: The truth value of an empty array is ambiguous. Returning False, but in future this will result in an error. Use `array.size > 0` to check that an array is not empty.\n",
            "  if diff:\n",
            "/usr/local/lib/python3.6/dist-packages/sklearn/preprocessing/label.py:151: DeprecationWarning: The truth value of an empty array is ambiguous. Returning False, but in future this will result in an error. Use `array.size > 0` to check that an array is not empty.\n",
            "  if diff:\n",
            "/usr/local/lib/python3.6/dist-packages/sklearn/preprocessing/label.py:151: DeprecationWarning: The truth value of an empty array is ambiguous. Returning False, but in future this will result in an error. Use `array.size > 0` to check that an array is not empty.\n",
            "  if diff:\n",
            "/usr/local/lib/python3.6/dist-packages/sklearn/preprocessing/label.py:151: DeprecationWarning: The truth value of an empty array is ambiguous. Returning False, but in future this will result in an error. Use `array.size > 0` to check that an array is not empty.\n",
            "  if diff:\n",
            "/usr/local/lib/python3.6/dist-packages/sklearn/preprocessing/label.py:151: DeprecationWarning: The truth value of an empty array is ambiguous. Returning False, but in future this will result in an error. Use `array.size > 0` to check that an array is not empty.\n",
            "  if diff:\n",
            "/usr/local/lib/python3.6/dist-packages/sklearn/preprocessing/label.py:151: DeprecationWarning: The truth value of an empty array is ambiguous. Returning False, but in future this will result in an error. Use `array.size > 0` to check that an array is not empty.\n",
            "  if diff:\n",
            "/usr/local/lib/python3.6/dist-packages/sklearn/preprocessing/label.py:151: DeprecationWarning: The truth value of an empty array is ambiguous. Returning False, but in future this will result in an error. Use `array.size > 0` to check that an array is not empty.\n",
            "  if diff:\n",
            "/usr/local/lib/python3.6/dist-packages/sklearn/preprocessing/label.py:151: DeprecationWarning: The truth value of an empty array is ambiguous. Returning False, but in future this will result in an error. Use `array.size > 0` to check that an array is not empty.\n",
            "  if diff:\n",
            "/usr/local/lib/python3.6/dist-packages/sklearn/preprocessing/label.py:151: DeprecationWarning: The truth value of an empty array is ambiguous. Returning False, but in future this will result in an error. Use `array.size > 0` to check that an array is not empty.\n",
            "  if diff:\n",
            "/usr/local/lib/python3.6/dist-packages/sklearn/preprocessing/label.py:151: DeprecationWarning: The truth value of an empty array is ambiguous. Returning False, but in future this will result in an error. Use `array.size > 0` to check that an array is not empty.\n",
            "  if diff:\n",
            "/usr/local/lib/python3.6/dist-packages/sklearn/preprocessing/label.py:151: DeprecationWarning: The truth value of an empty array is ambiguous. Returning False, but in future this will result in an error. Use `array.size > 0` to check that an array is not empty.\n",
            "  if diff:\n",
            "/usr/local/lib/python3.6/dist-packages/sklearn/preprocessing/label.py:151: DeprecationWarning: The truth value of an empty array is ambiguous. Returning False, but in future this will result in an error. Use `array.size > 0` to check that an array is not empty.\n",
            "  if diff:\n",
            "/usr/local/lib/python3.6/dist-packages/sklearn/preprocessing/label.py:151: DeprecationWarning: The truth value of an empty array is ambiguous. Returning False, but in future this will result in an error. Use `array.size > 0` to check that an array is not empty.\n",
            "  if diff:\n",
            "/usr/local/lib/python3.6/dist-packages/sklearn/preprocessing/label.py:151: DeprecationWarning: The truth value of an empty array is ambiguous. Returning False, but in future this will result in an error. Use `array.size > 0` to check that an array is not empty.\n",
            "  if diff:\n",
            "/usr/local/lib/python3.6/dist-packages/sklearn/preprocessing/label.py:151: DeprecationWarning: The truth value of an empty array is ambiguous. Returning False, but in future this will result in an error. Use `array.size > 0` to check that an array is not empty.\n",
            "  if diff:\n",
            "/usr/local/lib/python3.6/dist-packages/sklearn/preprocessing/label.py:151: DeprecationWarning: The truth value of an empty array is ambiguous. Returning False, but in future this will result in an error. Use `array.size > 0` to check that an array is not empty.\n",
            "  if diff:\n",
            "/usr/local/lib/python3.6/dist-packages/sklearn/preprocessing/label.py:151: DeprecationWarning: The truth value of an empty array is ambiguous. Returning False, but in future this will result in an error. Use `array.size > 0` to check that an array is not empty.\n",
            "  if diff:\n",
            "/usr/local/lib/python3.6/dist-packages/sklearn/preprocessing/label.py:151: DeprecationWarning: The truth value of an empty array is ambiguous. Returning False, but in future this will result in an error. Use `array.size > 0` to check that an array is not empty.\n",
            "  if diff:\n",
            "/usr/local/lib/python3.6/dist-packages/sklearn/preprocessing/label.py:151: DeprecationWarning: The truth value of an empty array is ambiguous. Returning False, but in future this will result in an error. Use `array.size > 0` to check that an array is not empty.\n",
            "  if diff:\n",
            "/usr/local/lib/python3.6/dist-packages/sklearn/preprocessing/label.py:151: DeprecationWarning: The truth value of an empty array is ambiguous. Returning False, but in future this will result in an error. Use `array.size > 0` to check that an array is not empty.\n",
            "  if diff:\n",
            "/usr/local/lib/python3.6/dist-packages/sklearn/preprocessing/label.py:151: DeprecationWarning: The truth value of an empty array is ambiguous. Returning False, but in future this will result in an error. Use `array.size > 0` to check that an array is not empty.\n",
            "  if diff:\n",
            "/usr/local/lib/python3.6/dist-packages/sklearn/preprocessing/label.py:151: DeprecationWarning: The truth value of an empty array is ambiguous. Returning False, but in future this will result in an error. Use `array.size > 0` to check that an array is not empty.\n",
            "  if diff:\n",
            "/usr/local/lib/python3.6/dist-packages/sklearn/preprocessing/label.py:151: DeprecationWarning: The truth value of an empty array is ambiguous. Returning False, but in future this will result in an error. Use `array.size > 0` to check that an array is not empty.\n",
            "  if diff:\n",
            "/usr/local/lib/python3.6/dist-packages/sklearn/preprocessing/label.py:151: DeprecationWarning: The truth value of an empty array is ambiguous. Returning False, but in future this will result in an error. Use `array.size > 0` to check that an array is not empty.\n",
            "  if diff:\n",
            "/usr/local/lib/python3.6/dist-packages/sklearn/preprocessing/label.py:151: DeprecationWarning: The truth value of an empty array is ambiguous. Returning False, but in future this will result in an error. Use `array.size > 0` to check that an array is not empty.\n",
            "  if diff:\n",
            "/usr/local/lib/python3.6/dist-packages/sklearn/preprocessing/label.py:151: DeprecationWarning: The truth value of an empty array is ambiguous. Returning False, but in future this will result in an error. Use `array.size > 0` to check that an array is not empty.\n",
            "  if diff:\n",
            "/usr/local/lib/python3.6/dist-packages/sklearn/preprocessing/label.py:151: DeprecationWarning: The truth value of an empty array is ambiguous. Returning False, but in future this will result in an error. Use `array.size > 0` to check that an array is not empty.\n",
            "  if diff:\n",
            "/usr/local/lib/python3.6/dist-packages/sklearn/preprocessing/label.py:151: DeprecationWarning: The truth value of an empty array is ambiguous. Returning False, but in future this will result in an error. Use `array.size > 0` to check that an array is not empty.\n",
            "  if diff:\n",
            "/usr/local/lib/python3.6/dist-packages/sklearn/preprocessing/label.py:151: DeprecationWarning: The truth value of an empty array is ambiguous. Returning False, but in future this will result in an error. Use `array.size > 0` to check that an array is not empty.\n",
            "  if diff:\n",
            "/usr/local/lib/python3.6/dist-packages/sklearn/preprocessing/label.py:151: DeprecationWarning: The truth value of an empty array is ambiguous. Returning False, but in future this will result in an error. Use `array.size > 0` to check that an array is not empty.\n",
            "  if diff:\n",
            "/usr/local/lib/python3.6/dist-packages/sklearn/preprocessing/label.py:151: DeprecationWarning: The truth value of an empty array is ambiguous. Returning False, but in future this will result in an error. Use `array.size > 0` to check that an array is not empty.\n",
            "  if diff:\n",
            "/usr/local/lib/python3.6/dist-packages/sklearn/preprocessing/label.py:151: DeprecationWarning: The truth value of an empty array is ambiguous. Returning False, but in future this will result in an error. Use `array.size > 0` to check that an array is not empty.\n",
            "  if diff:\n",
            "/usr/local/lib/python3.6/dist-packages/sklearn/preprocessing/label.py:151: DeprecationWarning: The truth value of an empty array is ambiguous. Returning False, but in future this will result in an error. Use `array.size > 0` to check that an array is not empty.\n",
            "  if diff:\n",
            "/usr/local/lib/python3.6/dist-packages/sklearn/preprocessing/label.py:151: DeprecationWarning: The truth value of an empty array is ambiguous. Returning False, but in future this will result in an error. Use `array.size > 0` to check that an array is not empty.\n",
            "  if diff:\n",
            "/usr/local/lib/python3.6/dist-packages/sklearn/preprocessing/label.py:151: DeprecationWarning: The truth value of an empty array is ambiguous. Returning False, but in future this will result in an error. Use `array.size > 0` to check that an array is not empty.\n",
            "  if diff:\n",
            "/usr/local/lib/python3.6/dist-packages/sklearn/preprocessing/label.py:151: DeprecationWarning: The truth value of an empty array is ambiguous. Returning False, but in future this will result in an error. Use `array.size > 0` to check that an array is not empty.\n",
            "  if diff:\n",
            "/usr/local/lib/python3.6/dist-packages/sklearn/preprocessing/label.py:151: DeprecationWarning: The truth value of an empty array is ambiguous. Returning False, but in future this will result in an error. Use `array.size > 0` to check that an array is not empty.\n",
            "  if diff:\n",
            "/usr/local/lib/python3.6/dist-packages/sklearn/preprocessing/label.py:151: DeprecationWarning: The truth value of an empty array is ambiguous. Returning False, but in future this will result in an error. Use `array.size > 0` to check that an array is not empty.\n",
            "  if diff:\n",
            "/usr/local/lib/python3.6/dist-packages/sklearn/preprocessing/label.py:151: DeprecationWarning: The truth value of an empty array is ambiguous. Returning False, but in future this will result in an error. Use `array.size > 0` to check that an array is not empty.\n",
            "  if diff:\n",
            "/usr/local/lib/python3.6/dist-packages/sklearn/preprocessing/label.py:151: DeprecationWarning: The truth value of an empty array is ambiguous. Returning False, but in future this will result in an error. Use `array.size > 0` to check that an array is not empty.\n",
            "  if diff:\n",
            "/usr/local/lib/python3.6/dist-packages/sklearn/preprocessing/label.py:151: DeprecationWarning: The truth value of an empty array is ambiguous. Returning False, but in future this will result in an error. Use `array.size > 0` to check that an array is not empty.\n",
            "  if diff:\n",
            "/usr/local/lib/python3.6/dist-packages/sklearn/preprocessing/label.py:151: DeprecationWarning: The truth value of an empty array is ambiguous. Returning False, but in future this will result in an error. Use `array.size > 0` to check that an array is not empty.\n",
            "  if diff:\n",
            "/usr/local/lib/python3.6/dist-packages/sklearn/preprocessing/label.py:151: DeprecationWarning: The truth value of an empty array is ambiguous. Returning False, but in future this will result in an error. Use `array.size > 0` to check that an array is not empty.\n",
            "  if diff:\n",
            "/usr/local/lib/python3.6/dist-packages/sklearn/preprocessing/label.py:151: DeprecationWarning: The truth value of an empty array is ambiguous. Returning False, but in future this will result in an error. Use `array.size > 0` to check that an array is not empty.\n",
            "  if diff:\n",
            "/usr/local/lib/python3.6/dist-packages/sklearn/preprocessing/label.py:151: DeprecationWarning: The truth value of an empty array is ambiguous. Returning False, but in future this will result in an error. Use `array.size > 0` to check that an array is not empty.\n",
            "  if diff:\n",
            "/usr/local/lib/python3.6/dist-packages/sklearn/preprocessing/label.py:151: DeprecationWarning: The truth value of an empty array is ambiguous. Returning False, but in future this will result in an error. Use `array.size > 0` to check that an array is not empty.\n",
            "  if diff:\n",
            "/usr/local/lib/python3.6/dist-packages/sklearn/preprocessing/label.py:151: DeprecationWarning: The truth value of an empty array is ambiguous. Returning False, but in future this will result in an error. Use `array.size > 0` to check that an array is not empty.\n",
            "  if diff:\n",
            "/usr/local/lib/python3.6/dist-packages/sklearn/preprocessing/label.py:151: DeprecationWarning: The truth value of an empty array is ambiguous. Returning False, but in future this will result in an error. Use `array.size > 0` to check that an array is not empty.\n",
            "  if diff:\n",
            "/usr/local/lib/python3.6/dist-packages/sklearn/preprocessing/label.py:151: DeprecationWarning: The truth value of an empty array is ambiguous. Returning False, but in future this will result in an error. Use `array.size > 0` to check that an array is not empty.\n",
            "  if diff:\n",
            "/usr/local/lib/python3.6/dist-packages/sklearn/preprocessing/label.py:151: DeprecationWarning: The truth value of an empty array is ambiguous. Returning False, but in future this will result in an error. Use `array.size > 0` to check that an array is not empty.\n",
            "  if diff:\n",
            "/usr/local/lib/python3.6/dist-packages/sklearn/preprocessing/label.py:151: DeprecationWarning: The truth value of an empty array is ambiguous. Returning False, but in future this will result in an error. Use `array.size > 0` to check that an array is not empty.\n",
            "  if diff:\n",
            "/usr/local/lib/python3.6/dist-packages/sklearn/preprocessing/label.py:151: DeprecationWarning: The truth value of an empty array is ambiguous. Returning False, but in future this will result in an error. Use `array.size > 0` to check that an array is not empty.\n",
            "  if diff:\n",
            "/usr/local/lib/python3.6/dist-packages/sklearn/preprocessing/label.py:151: DeprecationWarning: The truth value of an empty array is ambiguous. Returning False, but in future this will result in an error. Use `array.size > 0` to check that an array is not empty.\n",
            "  if diff:\n",
            "/usr/local/lib/python3.6/dist-packages/sklearn/preprocessing/label.py:151: DeprecationWarning: The truth value of an empty array is ambiguous. Returning False, but in future this will result in an error. Use `array.size > 0` to check that an array is not empty.\n",
            "  if diff:\n",
            "/usr/local/lib/python3.6/dist-packages/sklearn/preprocessing/label.py:151: DeprecationWarning: The truth value of an empty array is ambiguous. Returning False, but in future this will result in an error. Use `array.size > 0` to check that an array is not empty.\n",
            "  if diff:\n",
            "/usr/local/lib/python3.6/dist-packages/sklearn/preprocessing/label.py:151: DeprecationWarning: The truth value of an empty array is ambiguous. Returning False, but in future this will result in an error. Use `array.size > 0` to check that an array is not empty.\n",
            "  if diff:\n",
            "/usr/local/lib/python3.6/dist-packages/sklearn/preprocessing/label.py:151: DeprecationWarning: The truth value of an empty array is ambiguous. Returning False, but in future this will result in an error. Use `array.size > 0` to check that an array is not empty.\n",
            "  if diff:\n",
            "/usr/local/lib/python3.6/dist-packages/sklearn/preprocessing/label.py:151: DeprecationWarning: The truth value of an empty array is ambiguous. Returning False, but in future this will result in an error. Use `array.size > 0` to check that an array is not empty.\n",
            "  if diff:\n",
            "/usr/local/lib/python3.6/dist-packages/sklearn/preprocessing/label.py:151: DeprecationWarning: The truth value of an empty array is ambiguous. Returning False, but in future this will result in an error. Use `array.size > 0` to check that an array is not empty.\n",
            "  if diff:\n",
            "/usr/local/lib/python3.6/dist-packages/sklearn/preprocessing/label.py:151: DeprecationWarning: The truth value of an empty array is ambiguous. Returning False, but in future this will result in an error. Use `array.size > 0` to check that an array is not empty.\n",
            "  if diff:\n",
            "/usr/local/lib/python3.6/dist-packages/sklearn/utils/deprecation.py:122: FutureWarning: You are accessing a training score ('mean_train_score'), which will not be available by default any more in 0.21. If you need training scores, please set return_train_score=True\n",
            "  warnings.warn(*warn_args, **warn_kwargs)\n",
            "/usr/local/lib/python3.6/dist-packages/sklearn/utils/deprecation.py:122: FutureWarning: You are accessing a training score ('split0_train_score'), which will not be available by default any more in 0.21. If you need training scores, please set return_train_score=True\n",
            "  warnings.warn(*warn_args, **warn_kwargs)\n",
            "/usr/local/lib/python3.6/dist-packages/sklearn/utils/deprecation.py:122: FutureWarning: You are accessing a training score ('split1_train_score'), which will not be available by default any more in 0.21. If you need training scores, please set return_train_score=True\n",
            "  warnings.warn(*warn_args, **warn_kwargs)\n",
            "/usr/local/lib/python3.6/dist-packages/sklearn/utils/deprecation.py:122: FutureWarning: You are accessing a training score ('split2_train_score'), which will not be available by default any more in 0.21. If you need training scores, please set return_train_score=True\n",
            "  warnings.warn(*warn_args, **warn_kwargs)\n",
            "/usr/local/lib/python3.6/dist-packages/sklearn/utils/deprecation.py:122: FutureWarning: You are accessing a training score ('split3_train_score'), which will not be available by default any more in 0.21. If you need training scores, please set return_train_score=True\n",
            "  warnings.warn(*warn_args, **warn_kwargs)\n",
            "/usr/local/lib/python3.6/dist-packages/sklearn/utils/deprecation.py:122: FutureWarning: You are accessing a training score ('split4_train_score'), which will not be available by default any more in 0.21. If you need training scores, please set return_train_score=True\n",
            "  warnings.warn(*warn_args, **warn_kwargs)\n",
            "/usr/local/lib/python3.6/dist-packages/sklearn/utils/deprecation.py:122: FutureWarning: You are accessing a training score ('std_train_score'), which will not be available by default any more in 0.21. If you need training scores, please set return_train_score=True\n",
            "  warnings.warn(*warn_args, **warn_kwargs)\n"
          ],
          "name": "stderr"
        },
        {
          "output_type": "execute_result",
          "data": {
            "text/html": [
              "<div>\n",
              "<style scoped>\n",
              "    .dataframe tbody tr th:only-of-type {\n",
              "        vertical-align: middle;\n",
              "    }\n",
              "\n",
              "    .dataframe tbody tr th {\n",
              "        vertical-align: top;\n",
              "    }\n",
              "\n",
              "    .dataframe thead th {\n",
              "        text-align: right;\n",
              "    }\n",
              "</style>\n",
              "<table border=\"1\" class=\"dataframe\">\n",
              "  <thead>\n",
              "    <tr style=\"text-align: right;\">\n",
              "      <th></th>\n",
              "      <th>mean_fit_time</th>\n",
              "      <th>mean_score_time</th>\n",
              "      <th>mean_test_score</th>\n",
              "      <th>mean_train_score</th>\n",
              "      <th>param_max_depth</th>\n",
              "      <th>param_n_estimators</th>\n",
              "      <th>params</th>\n",
              "      <th>rank_test_score</th>\n",
              "      <th>split0_test_score</th>\n",
              "      <th>split0_train_score</th>\n",
              "      <th>...</th>\n",
              "      <th>split2_test_score</th>\n",
              "      <th>split2_train_score</th>\n",
              "      <th>split3_test_score</th>\n",
              "      <th>split3_train_score</th>\n",
              "      <th>split4_test_score</th>\n",
              "      <th>split4_train_score</th>\n",
              "      <th>std_fit_time</th>\n",
              "      <th>std_score_time</th>\n",
              "      <th>std_test_score</th>\n",
              "      <th>std_train_score</th>\n",
              "    </tr>\n",
              "  </thead>\n",
              "  <tbody>\n",
              "    <tr>\n",
              "      <th>2</th>\n",
              "      <td>7.591767</td>\n",
              "      <td>0.126733</td>\n",
              "      <td>0.944815</td>\n",
              "      <td>1.000000</td>\n",
              "      <td>10</td>\n",
              "      <td>250</td>\n",
              "      <td>{'max_depth': 10, 'n_estimators': 250}</td>\n",
              "      <td>1</td>\n",
              "      <td>0.942529</td>\n",
              "      <td>1.000000</td>\n",
              "      <td>...</td>\n",
              "      <td>0.949203</td>\n",
              "      <td>1.000000</td>\n",
              "      <td>0.943991</td>\n",
              "      <td>1.000000</td>\n",
              "      <td>0.941373</td>\n",
              "      <td>1.000000</td>\n",
              "      <td>0.209957</td>\n",
              "      <td>0.003189</td>\n",
              "      <td>0.002887</td>\n",
              "      <td>0.000000</td>\n",
              "    </tr>\n",
              "    <tr>\n",
              "      <th>5</th>\n",
              "      <td>13.362057</td>\n",
              "      <td>0.167957</td>\n",
              "      <td>0.943925</td>\n",
              "      <td>1.000000</td>\n",
              "      <td>30</td>\n",
              "      <td>250</td>\n",
              "      <td>{'max_depth': 30, 'n_estimators': 250}</td>\n",
              "      <td>2</td>\n",
              "      <td>0.941416</td>\n",
              "      <td>1.000000</td>\n",
              "      <td>...</td>\n",
              "      <td>0.944753</td>\n",
              "      <td>1.000000</td>\n",
              "      <td>0.941395</td>\n",
              "      <td>1.000000</td>\n",
              "      <td>0.938404</td>\n",
              "      <td>1.000000</td>\n",
              "      <td>0.112068</td>\n",
              "      <td>0.006292</td>\n",
              "      <td>0.005263</td>\n",
              "      <td>0.000000</td>\n",
              "    </tr>\n",
              "    <tr>\n",
              "      <th>8</th>\n",
              "      <td>13.305743</td>\n",
              "      <td>0.165931</td>\n",
              "      <td>0.942738</td>\n",
              "      <td>1.000000</td>\n",
              "      <td>50</td>\n",
              "      <td>250</td>\n",
              "      <td>{'max_depth': 50, 'n_estimators': 250}</td>\n",
              "      <td>3</td>\n",
              "      <td>0.935855</td>\n",
              "      <td>1.000000</td>\n",
              "      <td>...</td>\n",
              "      <td>0.944753</td>\n",
              "      <td>1.000000</td>\n",
              "      <td>0.939540</td>\n",
              "      <td>1.000000</td>\n",
              "      <td>0.939518</td>\n",
              "      <td>1.000000</td>\n",
              "      <td>0.912676</td>\n",
              "      <td>0.009255</td>\n",
              "      <td>0.006315</td>\n",
              "      <td>0.000000</td>\n",
              "    </tr>\n",
              "    <tr>\n",
              "      <th>4</th>\n",
              "      <td>9.148021</td>\n",
              "      <td>0.118532</td>\n",
              "      <td>0.939772</td>\n",
              "      <td>1.000000</td>\n",
              "      <td>30</td>\n",
              "      <td>150</td>\n",
              "      <td>{'max_depth': 30, 'n_estimators': 150}</td>\n",
              "      <td>4</td>\n",
              "      <td>0.933259</td>\n",
              "      <td>1.000000</td>\n",
              "      <td>...</td>\n",
              "      <td>0.942158</td>\n",
              "      <td>1.000000</td>\n",
              "      <td>0.937685</td>\n",
              "      <td>1.000000</td>\n",
              "      <td>0.935065</td>\n",
              "      <td>1.000000</td>\n",
              "      <td>0.098049</td>\n",
              "      <td>0.002739</td>\n",
              "      <td>0.006225</td>\n",
              "      <td>0.000000</td>\n",
              "    </tr>\n",
              "    <tr>\n",
              "      <th>1</th>\n",
              "      <td>4.713809</td>\n",
              "      <td>0.080302</td>\n",
              "      <td>0.939475</td>\n",
              "      <td>0.999722</td>\n",
              "      <td>10</td>\n",
              "      <td>150</td>\n",
              "      <td>{'max_depth': 10, 'n_estimators': 150}</td>\n",
              "      <td>5</td>\n",
              "      <td>0.937338</td>\n",
              "      <td>0.999629</td>\n",
              "      <td>...</td>\n",
              "      <td>0.943270</td>\n",
              "      <td>0.999907</td>\n",
              "      <td>0.935460</td>\n",
              "      <td>0.999444</td>\n",
              "      <td>0.935065</td>\n",
              "      <td>0.999629</td>\n",
              "      <td>0.109318</td>\n",
              "      <td>0.000892</td>\n",
              "      <td>0.004478</td>\n",
              "      <td>0.000203</td>\n",
              "    </tr>\n",
              "    <tr>\n",
              "      <th>7</th>\n",
              "      <td>9.435577</td>\n",
              "      <td>0.117798</td>\n",
              "      <td>0.939401</td>\n",
              "      <td>1.000000</td>\n",
              "      <td>50</td>\n",
              "      <td>150</td>\n",
              "      <td>{'max_depth': 50, 'n_estimators': 150}</td>\n",
              "      <td>6</td>\n",
              "      <td>0.932518</td>\n",
              "      <td>1.000000</td>\n",
              "      <td>...</td>\n",
              "      <td>0.942158</td>\n",
              "      <td>1.000000</td>\n",
              "      <td>0.935831</td>\n",
              "      <td>1.000000</td>\n",
              "      <td>0.936920</td>\n",
              "      <td>1.000000</td>\n",
              "      <td>0.104049</td>\n",
              "      <td>0.007026</td>\n",
              "      <td>0.005956</td>\n",
              "      <td>0.000000</td>\n",
              "    </tr>\n",
              "    <tr>\n",
              "      <th>6</th>\n",
              "      <td>6.547863</td>\n",
              "      <td>0.084659</td>\n",
              "      <td>0.936805</td>\n",
              "      <td>1.000000</td>\n",
              "      <td>50</td>\n",
              "      <td>100</td>\n",
              "      <td>{'max_depth': 50, 'n_estimators': 100}</td>\n",
              "      <td>7</td>\n",
              "      <td>0.930664</td>\n",
              "      <td>1.000000</td>\n",
              "      <td>...</td>\n",
              "      <td>0.940675</td>\n",
              "      <td>1.000000</td>\n",
              "      <td>0.934718</td>\n",
              "      <td>1.000000</td>\n",
              "      <td>0.932468</td>\n",
              "      <td>1.000000</td>\n",
              "      <td>0.054579</td>\n",
              "      <td>0.002759</td>\n",
              "      <td>0.005503</td>\n",
              "      <td>0.000000</td>\n",
              "    </tr>\n",
              "    <tr>\n",
              "      <th>3</th>\n",
              "      <td>6.560491</td>\n",
              "      <td>0.082360</td>\n",
              "      <td>0.936508</td>\n",
              "      <td>1.000000</td>\n",
              "      <td>30</td>\n",
              "      <td>100</td>\n",
              "      <td>{'max_depth': 30, 'n_estimators': 100}</td>\n",
              "      <td>8</td>\n",
              "      <td>0.928439</td>\n",
              "      <td>1.000000</td>\n",
              "      <td>...</td>\n",
              "      <td>0.940675</td>\n",
              "      <td>1.000000</td>\n",
              "      <td>0.934718</td>\n",
              "      <td>1.000000</td>\n",
              "      <td>0.933581</td>\n",
              "      <td>1.000000</td>\n",
              "      <td>0.217439</td>\n",
              "      <td>0.000648</td>\n",
              "      <td>0.005805</td>\n",
              "      <td>0.000000</td>\n",
              "    </tr>\n",
              "    <tr>\n",
              "      <th>0</th>\n",
              "      <td>2.908514</td>\n",
              "      <td>0.061925</td>\n",
              "      <td>0.930722</td>\n",
              "      <td>0.997330</td>\n",
              "      <td>10</td>\n",
              "      <td>100</td>\n",
              "      <td>{'max_depth': 10, 'n_estimators': 100}</td>\n",
              "      <td>9</td>\n",
              "      <td>0.926956</td>\n",
              "      <td>0.996384</td>\n",
              "      <td>...</td>\n",
              "      <td>0.934001</td>\n",
              "      <td>0.997867</td>\n",
              "      <td>0.928412</td>\n",
              "      <td>0.997589</td>\n",
              "      <td>0.928386</td>\n",
              "      <td>0.997126</td>\n",
              "      <td>0.378801</td>\n",
              "      <td>0.005884</td>\n",
              "      <td>0.003524</td>\n",
              "      <td>0.000532</td>\n",
              "    </tr>\n",
              "  </tbody>\n",
              "</table>\n",
              "<p>9 rows × 22 columns</p>\n",
              "</div>"
            ],
            "text/plain": [
              "   mean_fit_time  mean_score_time  mean_test_score  mean_train_score  \\\n",
              "2       7.591767         0.126733         0.944815          1.000000   \n",
              "5      13.362057         0.167957         0.943925          1.000000   \n",
              "8      13.305743         0.165931         0.942738          1.000000   \n",
              "4       9.148021         0.118532         0.939772          1.000000   \n",
              "1       4.713809         0.080302         0.939475          0.999722   \n",
              "7       9.435577         0.117798         0.939401          1.000000   \n",
              "6       6.547863         0.084659         0.936805          1.000000   \n",
              "3       6.560491         0.082360         0.936508          1.000000   \n",
              "0       2.908514         0.061925         0.930722          0.997330   \n",
              "\n",
              "  param_max_depth param_n_estimators                                  params  \\\n",
              "2              10                250  {'max_depth': 10, 'n_estimators': 250}   \n",
              "5              30                250  {'max_depth': 30, 'n_estimators': 250}   \n",
              "8              50                250  {'max_depth': 50, 'n_estimators': 250}   \n",
              "4              30                150  {'max_depth': 30, 'n_estimators': 150}   \n",
              "1              10                150  {'max_depth': 10, 'n_estimators': 150}   \n",
              "7              50                150  {'max_depth': 50, 'n_estimators': 150}   \n",
              "6              50                100  {'max_depth': 50, 'n_estimators': 100}   \n",
              "3              30                100  {'max_depth': 30, 'n_estimators': 100}   \n",
              "0              10                100  {'max_depth': 10, 'n_estimators': 100}   \n",
              "\n",
              "   rank_test_score  split0_test_score  split0_train_score       ...         \\\n",
              "2                1           0.942529            1.000000       ...          \n",
              "5                2           0.941416            1.000000       ...          \n",
              "8                3           0.935855            1.000000       ...          \n",
              "4                4           0.933259            1.000000       ...          \n",
              "1                5           0.937338            0.999629       ...          \n",
              "7                6           0.932518            1.000000       ...          \n",
              "6                7           0.930664            1.000000       ...          \n",
              "3                8           0.928439            1.000000       ...          \n",
              "0                9           0.926956            0.996384       ...          \n",
              "\n",
              "   split2_test_score  split2_train_score  split3_test_score  \\\n",
              "2           0.949203            1.000000           0.943991   \n",
              "5           0.944753            1.000000           0.941395   \n",
              "8           0.944753            1.000000           0.939540   \n",
              "4           0.942158            1.000000           0.937685   \n",
              "1           0.943270            0.999907           0.935460   \n",
              "7           0.942158            1.000000           0.935831   \n",
              "6           0.940675            1.000000           0.934718   \n",
              "3           0.940675            1.000000           0.934718   \n",
              "0           0.934001            0.997867           0.928412   \n",
              "\n",
              "   split3_train_score  split4_test_score  split4_train_score  std_fit_time  \\\n",
              "2            1.000000           0.941373            1.000000      0.209957   \n",
              "5            1.000000           0.938404            1.000000      0.112068   \n",
              "8            1.000000           0.939518            1.000000      0.912676   \n",
              "4            1.000000           0.935065            1.000000      0.098049   \n",
              "1            0.999444           0.935065            0.999629      0.109318   \n",
              "7            1.000000           0.936920            1.000000      0.104049   \n",
              "6            1.000000           0.932468            1.000000      0.054579   \n",
              "3            1.000000           0.933581            1.000000      0.217439   \n",
              "0            0.997589           0.928386            0.997126      0.378801   \n",
              "\n",
              "   std_score_time  std_test_score  std_train_score  \n",
              "2        0.003189        0.002887         0.000000  \n",
              "5        0.006292        0.005263         0.000000  \n",
              "8        0.009255        0.006315         0.000000  \n",
              "4        0.002739        0.006225         0.000000  \n",
              "1        0.000892        0.004478         0.000203  \n",
              "7        0.007026        0.005956         0.000000  \n",
              "6        0.002759        0.005503         0.000000  \n",
              "3        0.000648        0.005805         0.000000  \n",
              "0        0.005884        0.003524         0.000532  \n",
              "\n",
              "[9 rows x 22 columns]"
            ]
          },
          "metadata": {
            "tags": []
          },
          "execution_count": 19
        }
      ]
    },
    {
      "metadata": {
        "id": "fG4lVGHQNnxC",
        "colab_type": "code",
        "outputId": "645a74ec-f85f-42bf-85be-f24148088c6b",
        "colab": {
          "base_uri": "https://localhost:8080/",
          "height": 292
        }
      },
      "cell_type": "code",
      "source": [
        "# XGBoost after tuning\n",
        "\n",
        "xgb = XGBClassifier(n_estimators=250, max_depth=15,\n",
        "                             random_state=7)\n",
        "xgb.fit(X_train, np.ravel(y_train))\n",
        "\n",
        "print(\"Train score:\")\n",
        "print(xgb.score(X_train, y_train))\n",
        "\n",
        "print(\"Test score:\")\n",
        "print(xgb.score(X_test, y_test))\n",
        "\n",
        "print(\"Importances:\")\n",
        "print(sorted(zip(xgb.feature_importances_, X_test.columns), reverse=True))\n",
        "\n",
        "print(\"Confusion Matrix:\")\n",
        "print(confusion_matrix(y_test, xgb.predict(X_test)))"
      ],
      "execution_count": 0,
      "outputs": [
        {
          "output_type": "stream",
          "text": [
            "Train score:\n"
          ],
          "name": "stdout"
        },
        {
          "output_type": "stream",
          "text": [
            "/usr/local/lib/python3.6/dist-packages/sklearn/preprocessing/label.py:151: DeprecationWarning: The truth value of an empty array is ambiguous. Returning False, but in future this will result in an error. Use `array.size > 0` to check that an array is not empty.\n",
            "  if diff:\n",
            "/usr/local/lib/python3.6/dist-packages/sklearn/preprocessing/label.py:151: DeprecationWarning: The truth value of an empty array is ambiguous. Returning False, but in future this will result in an error. Use `array.size > 0` to check that an array is not empty.\n",
            "  if diff:\n"
          ],
          "name": "stderr"
        },
        {
          "output_type": "stream",
          "text": [
            "1.0\n",
            "Test score:\n",
            "0.951935914552737\n",
            "Importances:\n",
            "[(0.095110536, 'O1'), (0.094059035, 'F7'), (0.0915805, 'F8'), (0.08241744, 'FC6'), (0.07523221, 'AF4'), (0.0691235, 'O2'), (0.068572715, 'AF3'), (0.06809704, 'T7'), (0.06654482, 'FC5'), (0.06374083, 'T8'), (0.063365296, 'F3'), (0.059710085, 'F4'), (0.055704378, 'P7'), (0.04674161, 'P8'), (0.0, 'Intercept')]\n",
            "Confusion Matrix:\n",
            "[[774  34]\n",
            " [ 38 652]]\n"
          ],
          "name": "stdout"
        },
        {
          "output_type": "stream",
          "text": [
            "/usr/local/lib/python3.6/dist-packages/sklearn/preprocessing/label.py:151: DeprecationWarning: The truth value of an empty array is ambiguous. Returning False, but in future this will result in an error. Use `array.size > 0` to check that an array is not empty.\n",
            "  if diff:\n"
          ],
          "name": "stderr"
        }
      ]
    }
  ]
}